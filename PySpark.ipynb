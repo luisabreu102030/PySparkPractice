{
  "nbformat": 4,
  "nbformat_minor": 0,
  "metadata": {
    "colab": {
      "provenance": []
    },
    "kernelspec": {
      "name": "python3",
      "display_name": "Python 3"
    },
    "language_info": {
      "name": "python"
    }
  },
  "cells": [
    {
      "cell_type": "code",
      "execution_count": 2,
      "metadata": {
        "colab": {
          "base_uri": "https://localhost:8080/"
        },
        "id": "v5Xdwparlwfk",
        "outputId": "3d62c241-314c-4221-9a82-5879e4818a67"
      },
      "outputs": [
        {
          "output_type": "stream",
          "name": "stdout",
          "text": [
            "Looking in indexes: https://pypi.org/simple, https://us-python.pkg.dev/colab-wheels/public/simple/\n",
            "Collecting pyspark\n",
            "  Downloading pyspark-3.4.0.tar.gz (310.8 MB)\n",
            "\u001b[2K     \u001b[90m━━━━━━━━━━━━━━━━━━━━━━━━━━━━━━━━━━━━━━━\u001b[0m \u001b[32m310.8/310.8 MB\u001b[0m \u001b[31m3.3 MB/s\u001b[0m eta \u001b[36m0:00:00\u001b[0m\n",
            "\u001b[?25h  Preparing metadata (setup.py) ... \u001b[?25l\u001b[?25hdone\n",
            "Requirement already satisfied: py4j==0.10.9.7 in /usr/local/lib/python3.9/dist-packages (from pyspark) (0.10.9.7)\n",
            "Building wheels for collected packages: pyspark\n",
            "  Building wheel for pyspark (setup.py) ... \u001b[?25l\u001b[?25hdone\n",
            "  Created wheel for pyspark: filename=pyspark-3.4.0-py2.py3-none-any.whl size=311317145 sha256=606708a651002241d8689b8dc5be01779ab755b48a907eb090514f725d5de7b9\n",
            "  Stored in directory: /root/.cache/pip/wheels/9f/34/a4/159aa12d0a510d5ff7c8f0220abbea42e5d81ecf588c4fd884\n",
            "Successfully built pyspark\n",
            "Installing collected packages: pyspark\n",
            "Successfully installed pyspark-3.4.0\n"
          ]
        }
      ],
      "source": [
        "!pip install pyspark"
      ]
    },
    {
      "cell_type": "code",
      "source": [
        "#Access to my Google Drive\n",
        "from google.colab import drive\n",
        "drive.mount('/content/drive')"
      ],
      "metadata": {
        "colab": {
          "base_uri": "https://localhost:8080/"
        },
        "id": "0yAonhnjoj84",
        "outputId": "58a238d9-7dd0-4f30-b36b-0ea634d903fc"
      },
      "execution_count": 3,
      "outputs": [
        {
          "output_type": "stream",
          "name": "stdout",
          "text": [
            "Mounted at /content/drive\n"
          ]
        }
      ]
    },
    {
      "cell_type": "code",
      "source": [
        "import pyspark"
      ],
      "metadata": {
        "id": "sUZVqg3VnAtT"
      },
      "execution_count": 4,
      "outputs": []
    },
    {
      "cell_type": "code",
      "source": [
        "import pandas as pd"
      ],
      "metadata": {
        "id": "8qv1F6qWolWB"
      },
      "execution_count": 5,
      "outputs": []
    },
    {
      "cell_type": "code",
      "source": [
        "df = pd.read_csv('drive/MyDrive/PySparkpractice/P9-OLTP.csv')\n",
        "df.head()"
      ],
      "metadata": {
        "colab": {
          "base_uri": "https://localhost:8080/",
          "height": 206
        },
        "id": "fvdL5X5Loyq8",
        "outputId": "5345194b-f809-4c17-e6f9-4a175356adad"
      },
      "execution_count": 6,
      "outputs": [
        {
          "output_type": "execute_result",
          "data": {
            "text/plain": [
              "   TransactionID            Timestamp  CustomerID     Name  Surname  \\\n",
              "0         113255  2016-12-13 18:05:37   200000663  Leonard  Jackson   \n",
              "1         113254  2016-12-13 18:05:22   200000661    Lucas  Abraham   \n",
              "2         113253  2016-12-13 18:03:57   200000662   Trevor  Skinner   \n",
              "3         113252  2016-12-13 18:01:45   100000007  Dorothy  Thomson   \n",
              "4         113251  2016-12-13 18:01:22   400000180     Eric    Bower   \n",
              "\n",
              "  Shipping_State        Item       Description  Retail_Price  Loyalty_Discount  \n",
              "0       Delaware  8619953091        Pillowcase         18.96              0.02  \n",
              "1      Louisiana  2020397001  Men's Pajama Set         23.10              0.00  \n",
              "2      Louisiana  4681342313            Sheets         29.90              0.10  \n",
              "3        Alabama  6697166886              Coat        159.80              0.07  \n",
              "4  New Hampshire  6697166886              Coat        159.80              0.06  "
            ],
            "text/html": [
              "\n",
              "  <div id=\"df-04f637a3-b78c-419a-8e3e-cef74b024ac0\">\n",
              "    <div class=\"colab-df-container\">\n",
              "      <div>\n",
              "<style scoped>\n",
              "    .dataframe tbody tr th:only-of-type {\n",
              "        vertical-align: middle;\n",
              "    }\n",
              "\n",
              "    .dataframe tbody tr th {\n",
              "        vertical-align: top;\n",
              "    }\n",
              "\n",
              "    .dataframe thead th {\n",
              "        text-align: right;\n",
              "    }\n",
              "</style>\n",
              "<table border=\"1\" class=\"dataframe\">\n",
              "  <thead>\n",
              "    <tr style=\"text-align: right;\">\n",
              "      <th></th>\n",
              "      <th>TransactionID</th>\n",
              "      <th>Timestamp</th>\n",
              "      <th>CustomerID</th>\n",
              "      <th>Name</th>\n",
              "      <th>Surname</th>\n",
              "      <th>Shipping_State</th>\n",
              "      <th>Item</th>\n",
              "      <th>Description</th>\n",
              "      <th>Retail_Price</th>\n",
              "      <th>Loyalty_Discount</th>\n",
              "    </tr>\n",
              "  </thead>\n",
              "  <tbody>\n",
              "    <tr>\n",
              "      <th>0</th>\n",
              "      <td>113255</td>\n",
              "      <td>2016-12-13 18:05:37</td>\n",
              "      <td>200000663</td>\n",
              "      <td>Leonard</td>\n",
              "      <td>Jackson</td>\n",
              "      <td>Delaware</td>\n",
              "      <td>8619953091</td>\n",
              "      <td>Pillowcase</td>\n",
              "      <td>18.96</td>\n",
              "      <td>0.02</td>\n",
              "    </tr>\n",
              "    <tr>\n",
              "      <th>1</th>\n",
              "      <td>113254</td>\n",
              "      <td>2016-12-13 18:05:22</td>\n",
              "      <td>200000661</td>\n",
              "      <td>Lucas</td>\n",
              "      <td>Abraham</td>\n",
              "      <td>Louisiana</td>\n",
              "      <td>2020397001</td>\n",
              "      <td>Men's Pajama Set</td>\n",
              "      <td>23.10</td>\n",
              "      <td>0.00</td>\n",
              "    </tr>\n",
              "    <tr>\n",
              "      <th>2</th>\n",
              "      <td>113253</td>\n",
              "      <td>2016-12-13 18:03:57</td>\n",
              "      <td>200000662</td>\n",
              "      <td>Trevor</td>\n",
              "      <td>Skinner</td>\n",
              "      <td>Louisiana</td>\n",
              "      <td>4681342313</td>\n",
              "      <td>Sheets</td>\n",
              "      <td>29.90</td>\n",
              "      <td>0.10</td>\n",
              "    </tr>\n",
              "    <tr>\n",
              "      <th>3</th>\n",
              "      <td>113252</td>\n",
              "      <td>2016-12-13 18:01:45</td>\n",
              "      <td>100000007</td>\n",
              "      <td>Dorothy</td>\n",
              "      <td>Thomson</td>\n",
              "      <td>Alabama</td>\n",
              "      <td>6697166886</td>\n",
              "      <td>Coat</td>\n",
              "      <td>159.80</td>\n",
              "      <td>0.07</td>\n",
              "    </tr>\n",
              "    <tr>\n",
              "      <th>4</th>\n",
              "      <td>113251</td>\n",
              "      <td>2016-12-13 18:01:22</td>\n",
              "      <td>400000180</td>\n",
              "      <td>Eric</td>\n",
              "      <td>Bower</td>\n",
              "      <td>New Hampshire</td>\n",
              "      <td>6697166886</td>\n",
              "      <td>Coat</td>\n",
              "      <td>159.80</td>\n",
              "      <td>0.06</td>\n",
              "    </tr>\n",
              "  </tbody>\n",
              "</table>\n",
              "</div>\n",
              "      <button class=\"colab-df-convert\" onclick=\"convertToInteractive('df-04f637a3-b78c-419a-8e3e-cef74b024ac0')\"\n",
              "              title=\"Convert this dataframe to an interactive table.\"\n",
              "              style=\"display:none;\">\n",
              "        \n",
              "  <svg xmlns=\"http://www.w3.org/2000/svg\" height=\"24px\"viewBox=\"0 0 24 24\"\n",
              "       width=\"24px\">\n",
              "    <path d=\"M0 0h24v24H0V0z\" fill=\"none\"/>\n",
              "    <path d=\"M18.56 5.44l.94 2.06.94-2.06 2.06-.94-2.06-.94-.94-2.06-.94 2.06-2.06.94zm-11 1L8.5 8.5l.94-2.06 2.06-.94-2.06-.94L8.5 2.5l-.94 2.06-2.06.94zm10 10l.94 2.06.94-2.06 2.06-.94-2.06-.94-.94-2.06-.94 2.06-2.06.94z\"/><path d=\"M17.41 7.96l-1.37-1.37c-.4-.4-.92-.59-1.43-.59-.52 0-1.04.2-1.43.59L10.3 9.45l-7.72 7.72c-.78.78-.78 2.05 0 2.83L4 21.41c.39.39.9.59 1.41.59.51 0 1.02-.2 1.41-.59l7.78-7.78 2.81-2.81c.8-.78.8-2.07 0-2.86zM5.41 20L4 18.59l7.72-7.72 1.47 1.35L5.41 20z\"/>\n",
              "  </svg>\n",
              "      </button>\n",
              "      \n",
              "  <style>\n",
              "    .colab-df-container {\n",
              "      display:flex;\n",
              "      flex-wrap:wrap;\n",
              "      gap: 12px;\n",
              "    }\n",
              "\n",
              "    .colab-df-convert {\n",
              "      background-color: #E8F0FE;\n",
              "      border: none;\n",
              "      border-radius: 50%;\n",
              "      cursor: pointer;\n",
              "      display: none;\n",
              "      fill: #1967D2;\n",
              "      height: 32px;\n",
              "      padding: 0 0 0 0;\n",
              "      width: 32px;\n",
              "    }\n",
              "\n",
              "    .colab-df-convert:hover {\n",
              "      background-color: #E2EBFA;\n",
              "      box-shadow: 0px 1px 2px rgba(60, 64, 67, 0.3), 0px 1px 3px 1px rgba(60, 64, 67, 0.15);\n",
              "      fill: #174EA6;\n",
              "    }\n",
              "\n",
              "    [theme=dark] .colab-df-convert {\n",
              "      background-color: #3B4455;\n",
              "      fill: #D2E3FC;\n",
              "    }\n",
              "\n",
              "    [theme=dark] .colab-df-convert:hover {\n",
              "      background-color: #434B5C;\n",
              "      box-shadow: 0px 1px 3px 1px rgba(0, 0, 0, 0.15);\n",
              "      filter: drop-shadow(0px 1px 2px rgba(0, 0, 0, 0.3));\n",
              "      fill: #FFFFFF;\n",
              "    }\n",
              "  </style>\n",
              "\n",
              "      <script>\n",
              "        const buttonEl =\n",
              "          document.querySelector('#df-04f637a3-b78c-419a-8e3e-cef74b024ac0 button.colab-df-convert');\n",
              "        buttonEl.style.display =\n",
              "          google.colab.kernel.accessAllowed ? 'block' : 'none';\n",
              "\n",
              "        async function convertToInteractive(key) {\n",
              "          const element = document.querySelector('#df-04f637a3-b78c-419a-8e3e-cef74b024ac0');\n",
              "          const dataTable =\n",
              "            await google.colab.kernel.invokeFunction('convertToInteractive',\n",
              "                                                     [key], {});\n",
              "          if (!dataTable) return;\n",
              "\n",
              "          const docLinkHtml = 'Like what you see? Visit the ' +\n",
              "            '<a target=\"_blank\" href=https://colab.research.google.com/notebooks/data_table.ipynb>data table notebook</a>'\n",
              "            + ' to learn more about interactive tables.';\n",
              "          element.innerHTML = '';\n",
              "          dataTable['output_type'] = 'display_data';\n",
              "          await google.colab.output.renderOutput(dataTable, element);\n",
              "          const docLink = document.createElement('div');\n",
              "          docLink.innerHTML = docLinkHtml;\n",
              "          element.appendChild(docLink);\n",
              "        }\n",
              "      </script>\n",
              "    </div>\n",
              "  </div>\n",
              "  "
            ]
          },
          "metadata": {},
          "execution_count": 6
        }
      ]
    },
    {
      "cell_type": "markdown",
      "source": [
        "### Start PySpark session"
      ],
      "metadata": {
        "id": "yNUFU9NapwFx"
      }
    },
    {
      "cell_type": "code",
      "source": [
        "from pyspark.sql import SparkSession"
      ],
      "metadata": {
        "id": "pheYSvcZpJ6R"
      },
      "execution_count": 7,
      "outputs": []
    },
    {
      "cell_type": "code",
      "source": [
        "spark = SparkSession.builder.appName('Practice').getOrCreate()"
      ],
      "metadata": {
        "id": "9reSaWzYpMSs"
      },
      "execution_count": 8,
      "outputs": []
    },
    {
      "cell_type": "code",
      "source": [
        "spark"
      ],
      "metadata": {
        "colab": {
          "base_uri": "https://localhost:8080/",
          "height": 219
        },
        "id": "fhjbXs-apPi4",
        "outputId": "06e308b1-3277-4d9a-fd80-89d6999c966f"
      },
      "execution_count": 9,
      "outputs": [
        {
          "output_type": "execute_result",
          "data": {
            "text/plain": [
              "<pyspark.sql.session.SparkSession at 0x7f95ddf02d60>"
            ],
            "text/html": [
              "\n",
              "            <div>\n",
              "                <p><b>SparkSession - in-memory</b></p>\n",
              "                \n",
              "        <div>\n",
              "            <p><b>SparkContext</b></p>\n",
              "\n",
              "            <p><a href=\"http://b66327b76be8:4040\">Spark UI</a></p>\n",
              "\n",
              "            <dl>\n",
              "              <dt>Version</dt>\n",
              "                <dd><code>v3.4.0</code></dd>\n",
              "              <dt>Master</dt>\n",
              "                <dd><code>local[*]</code></dd>\n",
              "              <dt>AppName</dt>\n",
              "                <dd><code>Practice</code></dd>\n",
              "            </dl>\n",
              "        </div>\n",
              "        \n",
              "            </div>\n",
              "        "
            ]
          },
          "metadata": {},
          "execution_count": 9
        }
      ]
    },
    {
      "cell_type": "markdown",
      "source": [
        "### Load dataset with PySpark"
      ],
      "metadata": {
        "id": "by9tPTg6tCFu"
      }
    },
    {
      "cell_type": "code",
      "source": [
        "df_pyspark = spark.read.option('header','true').csv('drive/MyDrive/PySparkpractice/P9-OLTP.csv', inferSchema=True)"
      ],
      "metadata": {
        "id": "5vBB-kFNrNTh"
      },
      "execution_count": 10,
      "outputs": []
    },
    {
      "cell_type": "markdown",
      "source": [
        "NOTE: By default all the dataset features will be read with Type String. inferSchema try to infer the dataset features types"
      ],
      "metadata": {
        "id": "yTmuixl7vL45"
      }
    },
    {
      "cell_type": "code",
      "source": [
        "df_pyspark.show()"
      ],
      "metadata": {
        "colab": {
          "base_uri": "https://localhost:8080/"
        },
        "id": "peBw_17jpPb_",
        "outputId": "1d26134f-f378-4deb-e1fe-c415046f2b58"
      },
      "execution_count": 11,
      "outputs": [
        {
          "output_type": "stream",
          "name": "stdout",
          "text": [
            "+-------------+-------------------+----------+---------+---------+--------------+----------+--------------------+------------+----------------+\n",
            "|TransactionID|          Timestamp|CustomerID|     Name|  Surname|Shipping_State|      Item|         Description|Retail_Price|Loyalty_Discount|\n",
            "+-------------+-------------------+----------+---------+---------+--------------+----------+--------------------+------------+----------------+\n",
            "|       113255|2016-12-13 18:05:37| 200000663|  Leonard|  Jackson|      Delaware|8619953091|          Pillowcase|       18.96|            0.02|\n",
            "|       113254|2016-12-13 18:05:22| 200000661|    Lucas|  Abraham|     Louisiana|2020397001|    Men's Pajama Set|        23.1|             0.0|\n",
            "|       113253|2016-12-13 18:03:57| 200000662|   Trevor|  Skinner|     Louisiana|4681342313|              Sheets|        29.9|             0.1|\n",
            "|       113252|2016-12-13 18:01:45| 100000007|  Dorothy|  Thomson|       Alabama|6697166886|                Coat|       159.8|            0.07|\n",
            "|       113251|2016-12-13 18:01:22| 400000180|     Eric|    Bower| New Hampshire|6697166886|                Coat|       159.8|            0.06|\n",
            "|       113250|2016-12-13 17:59:20| 200000701|   Joshua|   Wilson|North Carolina|5187373849|          Short Slip|       12.87|             0.1|\n",
            "|       113249|2016-12-13 17:59:11| 300000467|   Angela| Morrison|          Utah|7010679527|             Blanket|       63.84|            0.08|\n",
            "|       113248|2016-12-13 17:58:07| 400000706| Samantha|    Mills|       Alabama|1893735141|               Socks|       115.5|             0.1|\n",
            "|       113247|2016-12-13 17:57:50| 100000061|    Kylie|   Howard|     Minnesota|8241463559|              Wallet|       49.75|             0.1|\n",
            "|       113246|2016-12-13 17:55:30| 400000513|      Amy|  Wilkins|     Minnesota|2430071492|         Dust Ruffle|       41.86|            0.02|\n",
            "|       113245|2016-12-13 17:51:34| 200000459|  Charles|    Brown|       Arizona|6988128169|             Handbag|       25.44|            0.04|\n",
            "|       113244|2016-12-13 17:48:55| 200000482|   Justin|   Graham|       Arizona|7270957383|               Scarf|       29.85|            0.01|\n",
            "|       113243|2016-12-13 17:48:05| 100000081|     Joan| Buckland|     Minnesota|6228611532|             Valance|       47.76|            0.02|\n",
            "|       113242|2016-12-13 17:46:18| 200000821|  Charles|Underwood|         Texas|1940915493|           Long Gown|       68.77|            0.08|\n",
            "|       113241|2016-12-13 17:45:21| 300000015|Madeleine| Marshall|       Arizona|3305177499|Coveralls (long s...|       95.88|            0.08|\n",
            "|       113240|2016-12-13 17:43:39| 100000252| Nicholas|    Lyman|North Carolina|4924918902|             T-shirt|       62.79|            0.09|\n",
            "|       113239|2016-12-13 17:42:54| 300000822|  Leonard|   Fisher|         Maine|2363094138|      Short Overalls|       71.82|            0.07|\n",
            "|       113238|2016-12-13 17:42:42| 300000815|    Pippa|Robertson| Massachusetts|2355020550|             Sweater|       67.92|            0.03|\n",
            "|       113237|2016-12-13 17:42:31| 100000618|   Andrew|   Wright|        Wyomin|3890778939|   Suit & 2 pc Dress|      125.16|            0.08|\n",
            "|       113236|2016-12-13 17:42:25| 100000051|   Sophie|  Wilkins|    Washington|5153370805|              Shorts|       43.96|            0.04|\n",
            "+-------------+-------------------+----------+---------+---------+--------------+----------+--------------------+------------+----------------+\n",
            "only showing top 20 rows\n",
            "\n"
          ]
        }
      ]
    },
    {
      "cell_type": "code",
      "source": [
        "df_pyspark.printSchema()"
      ],
      "metadata": {
        "colab": {
          "base_uri": "https://localhost:8080/"
        },
        "id": "IXvMVLWQpPXy",
        "outputId": "b709ba6f-c629-4d2b-b080-d4e30d4e2228"
      },
      "execution_count": 12,
      "outputs": [
        {
          "output_type": "stream",
          "name": "stdout",
          "text": [
            "root\n",
            " |-- TransactionID: integer (nullable = true)\n",
            " |-- Timestamp: timestamp (nullable = true)\n",
            " |-- CustomerID: integer (nullable = true)\n",
            " |-- Name: string (nullable = true)\n",
            " |-- Surname: string (nullable = true)\n",
            " |-- Shipping_State: string (nullable = true)\n",
            " |-- Item: long (nullable = true)\n",
            " |-- Description: string (nullable = true)\n",
            " |-- Retail_Price: double (nullable = true)\n",
            " |-- Loyalty_Discount: double (nullable = true)\n",
            "\n"
          ]
        }
      ]
    },
    {
      "cell_type": "code",
      "source": [
        "#silmple way to load dataset\n",
        "df_pyspark = spark.read.csv('drive/MyDrive/PySparkpractice/P9-OLTP.csv', header = True, inferSchema=True)\n",
        "df_pyspark.show()"
      ],
      "metadata": {
        "colab": {
          "base_uri": "https://localhost:8080/"
        },
        "id": "oUzdZ4XcpPUS",
        "outputId": "44470a6f-79ba-48a3-c89d-6ececbe97e9a"
      },
      "execution_count": 13,
      "outputs": [
        {
          "output_type": "stream",
          "name": "stdout",
          "text": [
            "+-------------+-------------------+----------+---------+---------+--------------+----------+--------------------+------------+----------------+\n",
            "|TransactionID|          Timestamp|CustomerID|     Name|  Surname|Shipping_State|      Item|         Description|Retail_Price|Loyalty_Discount|\n",
            "+-------------+-------------------+----------+---------+---------+--------------+----------+--------------------+------------+----------------+\n",
            "|       113255|2016-12-13 18:05:37| 200000663|  Leonard|  Jackson|      Delaware|8619953091|          Pillowcase|       18.96|            0.02|\n",
            "|       113254|2016-12-13 18:05:22| 200000661|    Lucas|  Abraham|     Louisiana|2020397001|    Men's Pajama Set|        23.1|             0.0|\n",
            "|       113253|2016-12-13 18:03:57| 200000662|   Trevor|  Skinner|     Louisiana|4681342313|              Sheets|        29.9|             0.1|\n",
            "|       113252|2016-12-13 18:01:45| 100000007|  Dorothy|  Thomson|       Alabama|6697166886|                Coat|       159.8|            0.07|\n",
            "|       113251|2016-12-13 18:01:22| 400000180|     Eric|    Bower| New Hampshire|6697166886|                Coat|       159.8|            0.06|\n",
            "|       113250|2016-12-13 17:59:20| 200000701|   Joshua|   Wilson|North Carolina|5187373849|          Short Slip|       12.87|             0.1|\n",
            "|       113249|2016-12-13 17:59:11| 300000467|   Angela| Morrison|          Utah|7010679527|             Blanket|       63.84|            0.08|\n",
            "|       113248|2016-12-13 17:58:07| 400000706| Samantha|    Mills|       Alabama|1893735141|               Socks|       115.5|             0.1|\n",
            "|       113247|2016-12-13 17:57:50| 100000061|    Kylie|   Howard|     Minnesota|8241463559|              Wallet|       49.75|             0.1|\n",
            "|       113246|2016-12-13 17:55:30| 400000513|      Amy|  Wilkins|     Minnesota|2430071492|         Dust Ruffle|       41.86|            0.02|\n",
            "|       113245|2016-12-13 17:51:34| 200000459|  Charles|    Brown|       Arizona|6988128169|             Handbag|       25.44|            0.04|\n",
            "|       113244|2016-12-13 17:48:55| 200000482|   Justin|   Graham|       Arizona|7270957383|               Scarf|       29.85|            0.01|\n",
            "|       113243|2016-12-13 17:48:05| 100000081|     Joan| Buckland|     Minnesota|6228611532|             Valance|       47.76|            0.02|\n",
            "|       113242|2016-12-13 17:46:18| 200000821|  Charles|Underwood|         Texas|1940915493|           Long Gown|       68.77|            0.08|\n",
            "|       113241|2016-12-13 17:45:21| 300000015|Madeleine| Marshall|       Arizona|3305177499|Coveralls (long s...|       95.88|            0.08|\n",
            "|       113240|2016-12-13 17:43:39| 100000252| Nicholas|    Lyman|North Carolina|4924918902|             T-shirt|       62.79|            0.09|\n",
            "|       113239|2016-12-13 17:42:54| 300000822|  Leonard|   Fisher|         Maine|2363094138|      Short Overalls|       71.82|            0.07|\n",
            "|       113238|2016-12-13 17:42:42| 300000815|    Pippa|Robertson| Massachusetts|2355020550|             Sweater|       67.92|            0.03|\n",
            "|       113237|2016-12-13 17:42:31| 100000618|   Andrew|   Wright|        Wyomin|3890778939|   Suit & 2 pc Dress|      125.16|            0.08|\n",
            "|       113236|2016-12-13 17:42:25| 100000051|   Sophie|  Wilkins|    Washington|5153370805|              Shorts|       43.96|            0.04|\n",
            "+-------------+-------------------+----------+---------+---------+--------------+----------+--------------------+------------+----------------+\n",
            "only showing top 20 rows\n",
            "\n"
          ]
        }
      ]
    },
    {
      "cell_type": "code",
      "source": [
        "df_pyspark.printSchema()"
      ],
      "metadata": {
        "colab": {
          "base_uri": "https://localhost:8080/"
        },
        "id": "Kp5zBrxHpPRp",
        "outputId": "a0752fcd-e6be-4e13-edb3-3319bcfc1bf0"
      },
      "execution_count": 14,
      "outputs": [
        {
          "output_type": "stream",
          "name": "stdout",
          "text": [
            "root\n",
            " |-- TransactionID: integer (nullable = true)\n",
            " |-- Timestamp: timestamp (nullable = true)\n",
            " |-- CustomerID: integer (nullable = true)\n",
            " |-- Name: string (nullable = true)\n",
            " |-- Surname: string (nullable = true)\n",
            " |-- Shipping_State: string (nullable = true)\n",
            " |-- Item: long (nullable = true)\n",
            " |-- Description: string (nullable = true)\n",
            " |-- Retail_Price: double (nullable = true)\n",
            " |-- Loyalty_Discount: double (nullable = true)\n",
            "\n"
          ]
        }
      ]
    },
    {
      "cell_type": "code",
      "source": [
        "df_pyspark.columns"
      ],
      "metadata": {
        "colab": {
          "base_uri": "https://localhost:8080/"
        },
        "id": "SQN4oXWRpPPW",
        "outputId": "38b18b26-34cb-4eba-8253-623d8f7f84ac"
      },
      "execution_count": 15,
      "outputs": [
        {
          "output_type": "execute_result",
          "data": {
            "text/plain": [
              "['TransactionID',\n",
              " 'Timestamp',\n",
              " 'CustomerID',\n",
              " 'Name',\n",
              " 'Surname',\n",
              " 'Shipping_State',\n",
              " 'Item',\n",
              " 'Description',\n",
              " 'Retail_Price',\n",
              " 'Loyalty_Discount']"
            ]
          },
          "metadata": {},
          "execution_count": 15
        }
      ]
    },
    {
      "cell_type": "code",
      "source": [
        "df_pyspark.head(3)"
      ],
      "metadata": {
        "colab": {
          "base_uri": "https://localhost:8080/"
        },
        "id": "-jCmXPh0pPNE",
        "outputId": "92b67ad0-a45b-4773-a837-a1e37ceb9858"
      },
      "execution_count": 16,
      "outputs": [
        {
          "output_type": "execute_result",
          "data": {
            "text/plain": [
              "[Row(TransactionID=113255, Timestamp=datetime.datetime(2016, 12, 13, 18, 5, 37), CustomerID=200000663, Name='Leonard', Surname='Jackson', Shipping_State='Delaware', Item=8619953091, Description='Pillowcase', Retail_Price=18.96, Loyalty_Discount=0.02),\n",
              " Row(TransactionID=113254, Timestamp=datetime.datetime(2016, 12, 13, 18, 5, 22), CustomerID=200000661, Name='Lucas', Surname='Abraham', Shipping_State='Louisiana', Item=2020397001, Description=\"Men's Pajama Set\", Retail_Price=23.1, Loyalty_Discount=0.0),\n",
              " Row(TransactionID=113253, Timestamp=datetime.datetime(2016, 12, 13, 18, 3, 57), CustomerID=200000662, Name='Trevor', Surname='Skinner', Shipping_State='Louisiana', Item=4681342313, Description='Sheets', Retail_Price=29.9, Loyalty_Discount=0.1)]"
            ]
          },
          "metadata": {},
          "execution_count": 16
        }
      ]
    },
    {
      "cell_type": "markdown",
      "source": [
        "### Select columns"
      ],
      "metadata": {
        "id": "zMdMxImQzYq7"
      }
    },
    {
      "cell_type": "code",
      "source": [
        "#Select one columns\n",
        "df_pyspark.select('Name').show()"
      ],
      "metadata": {
        "colab": {
          "base_uri": "https://localhost:8080/"
        },
        "id": "5tmuwzLnpPKj",
        "outputId": "44ab6e3b-2bb6-4ec2-b057-70b4c121c61e"
      },
      "execution_count": 17,
      "outputs": [
        {
          "output_type": "stream",
          "name": "stdout",
          "text": [
            "+---------+\n",
            "|     Name|\n",
            "+---------+\n",
            "|  Leonard|\n",
            "|    Lucas|\n",
            "|   Trevor|\n",
            "|  Dorothy|\n",
            "|     Eric|\n",
            "|   Joshua|\n",
            "|   Angela|\n",
            "| Samantha|\n",
            "|    Kylie|\n",
            "|      Amy|\n",
            "|  Charles|\n",
            "|   Justin|\n",
            "|     Joan|\n",
            "|  Charles|\n",
            "|Madeleine|\n",
            "| Nicholas|\n",
            "|  Leonard|\n",
            "|    Pippa|\n",
            "|   Andrew|\n",
            "|   Sophie|\n",
            "+---------+\n",
            "only showing top 20 rows\n",
            "\n"
          ]
        }
      ]
    },
    {
      "cell_type": "code",
      "source": [
        "#Select multiple columns\n",
        "df_pyspark.select(['Name','Surname', 'Loyalty_Discount']).show()"
      ],
      "metadata": {
        "colab": {
          "base_uri": "https://localhost:8080/"
        },
        "id": "yK0maz_ipPIR",
        "outputId": "d1976589-90b9-4ff3-ad8b-5ad562461636"
      },
      "execution_count": 18,
      "outputs": [
        {
          "output_type": "stream",
          "name": "stdout",
          "text": [
            "+---------+---------+----------------+\n",
            "|     Name|  Surname|Loyalty_Discount|\n",
            "+---------+---------+----------------+\n",
            "|  Leonard|  Jackson|            0.02|\n",
            "|    Lucas|  Abraham|             0.0|\n",
            "|   Trevor|  Skinner|             0.1|\n",
            "|  Dorothy|  Thomson|            0.07|\n",
            "|     Eric|    Bower|            0.06|\n",
            "|   Joshua|   Wilson|             0.1|\n",
            "|   Angela| Morrison|            0.08|\n",
            "| Samantha|    Mills|             0.1|\n",
            "|    Kylie|   Howard|             0.1|\n",
            "|      Amy|  Wilkins|            0.02|\n",
            "|  Charles|    Brown|            0.04|\n",
            "|   Justin|   Graham|            0.01|\n",
            "|     Joan| Buckland|            0.02|\n",
            "|  Charles|Underwood|            0.08|\n",
            "|Madeleine| Marshall|            0.08|\n",
            "| Nicholas|    Lyman|            0.09|\n",
            "|  Leonard|   Fisher|            0.07|\n",
            "|    Pippa|Robertson|            0.03|\n",
            "|   Andrew|   Wright|            0.08|\n",
            "|   Sophie|  Wilkins|            0.04|\n",
            "+---------+---------+----------------+\n",
            "only showing top 20 rows\n",
            "\n"
          ]
        }
      ]
    },
    {
      "cell_type": "markdown",
      "source": [
        "### See dataset information"
      ],
      "metadata": {
        "id": "WVkgfJXmzcF2"
      }
    },
    {
      "cell_type": "code",
      "source": [
        "#Column data types\n",
        "df_pyspark.dtypes"
      ],
      "metadata": {
        "colab": {
          "base_uri": "https://localhost:8080/"
        },
        "id": "eu_oPcRnpPFy",
        "outputId": "fbbc9609-6ea0-4f2a-efcd-945103d6baa3"
      },
      "execution_count": 19,
      "outputs": [
        {
          "output_type": "execute_result",
          "data": {
            "text/plain": [
              "[('TransactionID', 'int'),\n",
              " ('Timestamp', 'timestamp'),\n",
              " ('CustomerID', 'int'),\n",
              " ('Name', 'string'),\n",
              " ('Surname', 'string'),\n",
              " ('Shipping_State', 'string'),\n",
              " ('Item', 'bigint'),\n",
              " ('Description', 'string'),\n",
              " ('Retail_Price', 'double'),\n",
              " ('Loyalty_Discount', 'double')]"
            ]
          },
          "metadata": {},
          "execution_count": 19
        }
      ]
    },
    {
      "cell_type": "code",
      "source": [
        "df_pyspark.describe().show()"
      ],
      "metadata": {
        "colab": {
          "base_uri": "https://localhost:8080/"
        },
        "id": "d63GcFk4pPDA",
        "outputId": "25a1751a-72c8-4319-f865-f2cb2281ff0c"
      },
      "execution_count": 20,
      "outputs": [
        {
          "output_type": "stream",
          "name": "stdout",
          "text": [
            "+-------+-----------------+--------------------+-------+-------+--------------+--------------------+--------------+------------------+--------------------+\n",
            "|summary|    TransactionID|          CustomerID|   Name|Surname|Shipping_State|                Item|   Description|      Retail_Price|    Loyalty_Discount|\n",
            "+-------+-----------------+--------------------+-------+-------+--------------+--------------------+--------------+------------------+--------------------+\n",
            "|  count|             3455|                3455|   3455|   3455|          3455|                3455|          3455|              3455|                3455|\n",
            "|   mean|         111528.0|1.7979786802633864E8|   null|   null|          null| 5.276712062120116E9|          null| 58.52623733719242|0.050457308248914694|\n",
            "| stddev|997.5169171497795| 9.563412101468475E7|   null|   null|          null|2.6004860735100303E9|          null|34.464217470272985|0.032214527058601276|\n",
            "|    min|           109801|           100000001|Abigail|Abraham|       Alabama|          1039854547|         Apron|               5.6|                 0.0|\n",
            "|    max|           113255|           400000916|    Zoe|  Young|        Wyomin|          9916068026|Waterbed Sheet|             159.8|                 0.1|\n",
            "+-------+-----------------+--------------------+-------+-------+--------------+--------------------+--------------+------------------+--------------------+\n",
            "\n"
          ]
        }
      ]
    },
    {
      "cell_type": "markdown",
      "source": [
        "### Add, remove and rename columns"
      ],
      "metadata": {
        "id": "VYUR2hnnzUK7"
      }
    },
    {
      "cell_type": "code",
      "source": [
        "#Add columns\n",
        "df_pyspark = df_pyspark.withColumn('Price', df_pyspark['Retail_price'] * (1-df_pyspark['Loyalty_Discount']))\n",
        "df_pyspark.show()"
      ],
      "metadata": {
        "colab": {
          "base_uri": "https://localhost:8080/"
        },
        "id": "kWRbzxzfzhBb",
        "outputId": "3b4f504e-478f-4d26-aebb-6dbae47551f0"
      },
      "execution_count": 21,
      "outputs": [
        {
          "output_type": "stream",
          "name": "stdout",
          "text": [
            "+-------------+-------------------+----------+---------+---------+--------------+----------+--------------------+------------+----------------+------------------+\n",
            "|TransactionID|          Timestamp|CustomerID|     Name|  Surname|Shipping_State|      Item|         Description|Retail_Price|Loyalty_Discount|             Price|\n",
            "+-------------+-------------------+----------+---------+---------+--------------+----------+--------------------+------------+----------------+------------------+\n",
            "|       113255|2016-12-13 18:05:37| 200000663|  Leonard|  Jackson|      Delaware|8619953091|          Pillowcase|       18.96|            0.02|           18.5808|\n",
            "|       113254|2016-12-13 18:05:22| 200000661|    Lucas|  Abraham|     Louisiana|2020397001|    Men's Pajama Set|        23.1|             0.0|              23.1|\n",
            "|       113253|2016-12-13 18:03:57| 200000662|   Trevor|  Skinner|     Louisiana|4681342313|              Sheets|        29.9|             0.1|             26.91|\n",
            "|       113252|2016-12-13 18:01:45| 100000007|  Dorothy|  Thomson|       Alabama|6697166886|                Coat|       159.8|            0.07|           148.614|\n",
            "|       113251|2016-12-13 18:01:22| 400000180|     Eric|    Bower| New Hampshire|6697166886|                Coat|       159.8|            0.06|           150.212|\n",
            "|       113250|2016-12-13 17:59:20| 200000701|   Joshua|   Wilson|North Carolina|5187373849|          Short Slip|       12.87|             0.1|            11.583|\n",
            "|       113249|2016-12-13 17:59:11| 300000467|   Angela| Morrison|          Utah|7010679527|             Blanket|       63.84|            0.08|58.732800000000005|\n",
            "|       113248|2016-12-13 17:58:07| 400000706| Samantha|    Mills|       Alabama|1893735141|               Socks|       115.5|             0.1|            103.95|\n",
            "|       113247|2016-12-13 17:57:50| 100000061|    Kylie|   Howard|     Minnesota|8241463559|              Wallet|       49.75|             0.1|            44.775|\n",
            "|       113246|2016-12-13 17:55:30| 400000513|      Amy|  Wilkins|     Minnesota|2430071492|         Dust Ruffle|       41.86|            0.02|           41.0228|\n",
            "|       113245|2016-12-13 17:51:34| 200000459|  Charles|    Brown|       Arizona|6988128169|             Handbag|       25.44|            0.04|           24.4224|\n",
            "|       113244|2016-12-13 17:48:55| 200000482|   Justin|   Graham|       Arizona|7270957383|               Scarf|       29.85|            0.01|           29.5515|\n",
            "|       113243|2016-12-13 17:48:05| 100000081|     Joan| Buckland|     Minnesota|6228611532|             Valance|       47.76|            0.02|           46.8048|\n",
            "|       113242|2016-12-13 17:46:18| 200000821|  Charles|Underwood|         Texas|1940915493|           Long Gown|       68.77|            0.08|           63.2684|\n",
            "|       113241|2016-12-13 17:45:21| 300000015|Madeleine| Marshall|       Arizona|3305177499|Coveralls (long s...|       95.88|            0.08|           88.2096|\n",
            "|       113240|2016-12-13 17:43:39| 100000252| Nicholas|    Lyman|North Carolina|4924918902|             T-shirt|       62.79|            0.09|           57.1389|\n",
            "|       113239|2016-12-13 17:42:54| 300000822|  Leonard|   Fisher|         Maine|2363094138|      Short Overalls|       71.82|            0.07|           66.7926|\n",
            "|       113238|2016-12-13 17:42:42| 300000815|    Pippa|Robertson| Massachusetts|2355020550|             Sweater|       67.92|            0.03|           65.8824|\n",
            "|       113237|2016-12-13 17:42:31| 100000618|   Andrew|   Wright|        Wyomin|3890778939|   Suit & 2 pc Dress|      125.16|            0.08|          115.1472|\n",
            "|       113236|2016-12-13 17:42:25| 100000051|   Sophie|  Wilkins|    Washington|5153370805|              Shorts|       43.96|            0.04|           42.2016|\n",
            "+-------------+-------------------+----------+---------+---------+--------------+----------+--------------------+------------+----------------+------------------+\n",
            "only showing top 20 rows\n",
            "\n"
          ]
        }
      ]
    },
    {
      "cell_type": "code",
      "source": [
        "#Drop columns\n",
        "df_pyspark = df_pyspark.drop('Price')\n",
        "df_pyspark.show()"
      ],
      "metadata": {
        "colab": {
          "base_uri": "https://localhost:8080/"
        },
        "id": "CCPY38sF1rcO",
        "outputId": "1bd1523c-2876-4ef9-96b0-dcc948006b16"
      },
      "execution_count": 22,
      "outputs": [
        {
          "output_type": "stream",
          "name": "stdout",
          "text": [
            "+-------------+-------------------+----------+---------+---------+--------------+----------+--------------------+------------+----------------+\n",
            "|TransactionID|          Timestamp|CustomerID|     Name|  Surname|Shipping_State|      Item|         Description|Retail_Price|Loyalty_Discount|\n",
            "+-------------+-------------------+----------+---------+---------+--------------+----------+--------------------+------------+----------------+\n",
            "|       113255|2016-12-13 18:05:37| 200000663|  Leonard|  Jackson|      Delaware|8619953091|          Pillowcase|       18.96|            0.02|\n",
            "|       113254|2016-12-13 18:05:22| 200000661|    Lucas|  Abraham|     Louisiana|2020397001|    Men's Pajama Set|        23.1|             0.0|\n",
            "|       113253|2016-12-13 18:03:57| 200000662|   Trevor|  Skinner|     Louisiana|4681342313|              Sheets|        29.9|             0.1|\n",
            "|       113252|2016-12-13 18:01:45| 100000007|  Dorothy|  Thomson|       Alabama|6697166886|                Coat|       159.8|            0.07|\n",
            "|       113251|2016-12-13 18:01:22| 400000180|     Eric|    Bower| New Hampshire|6697166886|                Coat|       159.8|            0.06|\n",
            "|       113250|2016-12-13 17:59:20| 200000701|   Joshua|   Wilson|North Carolina|5187373849|          Short Slip|       12.87|             0.1|\n",
            "|       113249|2016-12-13 17:59:11| 300000467|   Angela| Morrison|          Utah|7010679527|             Blanket|       63.84|            0.08|\n",
            "|       113248|2016-12-13 17:58:07| 400000706| Samantha|    Mills|       Alabama|1893735141|               Socks|       115.5|             0.1|\n",
            "|       113247|2016-12-13 17:57:50| 100000061|    Kylie|   Howard|     Minnesota|8241463559|              Wallet|       49.75|             0.1|\n",
            "|       113246|2016-12-13 17:55:30| 400000513|      Amy|  Wilkins|     Minnesota|2430071492|         Dust Ruffle|       41.86|            0.02|\n",
            "|       113245|2016-12-13 17:51:34| 200000459|  Charles|    Brown|       Arizona|6988128169|             Handbag|       25.44|            0.04|\n",
            "|       113244|2016-12-13 17:48:55| 200000482|   Justin|   Graham|       Arizona|7270957383|               Scarf|       29.85|            0.01|\n",
            "|       113243|2016-12-13 17:48:05| 100000081|     Joan| Buckland|     Minnesota|6228611532|             Valance|       47.76|            0.02|\n",
            "|       113242|2016-12-13 17:46:18| 200000821|  Charles|Underwood|         Texas|1940915493|           Long Gown|       68.77|            0.08|\n",
            "|       113241|2016-12-13 17:45:21| 300000015|Madeleine| Marshall|       Arizona|3305177499|Coveralls (long s...|       95.88|            0.08|\n",
            "|       113240|2016-12-13 17:43:39| 100000252| Nicholas|    Lyman|North Carolina|4924918902|             T-shirt|       62.79|            0.09|\n",
            "|       113239|2016-12-13 17:42:54| 300000822|  Leonard|   Fisher|         Maine|2363094138|      Short Overalls|       71.82|            0.07|\n",
            "|       113238|2016-12-13 17:42:42| 300000815|    Pippa|Robertson| Massachusetts|2355020550|             Sweater|       67.92|            0.03|\n",
            "|       113237|2016-12-13 17:42:31| 100000618|   Andrew|   Wright|        Wyomin|3890778939|   Suit & 2 pc Dress|      125.16|            0.08|\n",
            "|       113236|2016-12-13 17:42:25| 100000051|   Sophie|  Wilkins|    Washington|5153370805|              Shorts|       43.96|            0.04|\n",
            "+-------------+-------------------+----------+---------+---------+--------------+----------+--------------------+------------+----------------+\n",
            "only showing top 20 rows\n",
            "\n"
          ]
        }
      ]
    },
    {
      "cell_type": "code",
      "source": [
        "#Rename columns\n",
        "df_pyspark = df_pyspark.withColumnRenamed('Name', 'First_Name')\n",
        "df_pyspark.show()"
      ],
      "metadata": {
        "colab": {
          "base_uri": "https://localhost:8080/"
        },
        "id": "5U1V6PLc1u_S",
        "outputId": "e7d52cdc-95c7-450f-a086-ede2405d2ea8"
      },
      "execution_count": 23,
      "outputs": [
        {
          "output_type": "stream",
          "name": "stdout",
          "text": [
            "+-------------+-------------------+----------+----------+---------+--------------+----------+--------------------+------------+----------------+\n",
            "|TransactionID|          Timestamp|CustomerID|First_Name|  Surname|Shipping_State|      Item|         Description|Retail_Price|Loyalty_Discount|\n",
            "+-------------+-------------------+----------+----------+---------+--------------+----------+--------------------+------------+----------------+\n",
            "|       113255|2016-12-13 18:05:37| 200000663|   Leonard|  Jackson|      Delaware|8619953091|          Pillowcase|       18.96|            0.02|\n",
            "|       113254|2016-12-13 18:05:22| 200000661|     Lucas|  Abraham|     Louisiana|2020397001|    Men's Pajama Set|        23.1|             0.0|\n",
            "|       113253|2016-12-13 18:03:57| 200000662|    Trevor|  Skinner|     Louisiana|4681342313|              Sheets|        29.9|             0.1|\n",
            "|       113252|2016-12-13 18:01:45| 100000007|   Dorothy|  Thomson|       Alabama|6697166886|                Coat|       159.8|            0.07|\n",
            "|       113251|2016-12-13 18:01:22| 400000180|      Eric|    Bower| New Hampshire|6697166886|                Coat|       159.8|            0.06|\n",
            "|       113250|2016-12-13 17:59:20| 200000701|    Joshua|   Wilson|North Carolina|5187373849|          Short Slip|       12.87|             0.1|\n",
            "|       113249|2016-12-13 17:59:11| 300000467|    Angela| Morrison|          Utah|7010679527|             Blanket|       63.84|            0.08|\n",
            "|       113248|2016-12-13 17:58:07| 400000706|  Samantha|    Mills|       Alabama|1893735141|               Socks|       115.5|             0.1|\n",
            "|       113247|2016-12-13 17:57:50| 100000061|     Kylie|   Howard|     Minnesota|8241463559|              Wallet|       49.75|             0.1|\n",
            "|       113246|2016-12-13 17:55:30| 400000513|       Amy|  Wilkins|     Minnesota|2430071492|         Dust Ruffle|       41.86|            0.02|\n",
            "|       113245|2016-12-13 17:51:34| 200000459|   Charles|    Brown|       Arizona|6988128169|             Handbag|       25.44|            0.04|\n",
            "|       113244|2016-12-13 17:48:55| 200000482|    Justin|   Graham|       Arizona|7270957383|               Scarf|       29.85|            0.01|\n",
            "|       113243|2016-12-13 17:48:05| 100000081|      Joan| Buckland|     Minnesota|6228611532|             Valance|       47.76|            0.02|\n",
            "|       113242|2016-12-13 17:46:18| 200000821|   Charles|Underwood|         Texas|1940915493|           Long Gown|       68.77|            0.08|\n",
            "|       113241|2016-12-13 17:45:21| 300000015| Madeleine| Marshall|       Arizona|3305177499|Coveralls (long s...|       95.88|            0.08|\n",
            "|       113240|2016-12-13 17:43:39| 100000252|  Nicholas|    Lyman|North Carolina|4924918902|             T-shirt|       62.79|            0.09|\n",
            "|       113239|2016-12-13 17:42:54| 300000822|   Leonard|   Fisher|         Maine|2363094138|      Short Overalls|       71.82|            0.07|\n",
            "|       113238|2016-12-13 17:42:42| 300000815|     Pippa|Robertson| Massachusetts|2355020550|             Sweater|       67.92|            0.03|\n",
            "|       113237|2016-12-13 17:42:31| 100000618|    Andrew|   Wright|        Wyomin|3890778939|   Suit & 2 pc Dress|      125.16|            0.08|\n",
            "|       113236|2016-12-13 17:42:25| 100000051|    Sophie|  Wilkins|    Washington|5153370805|              Shorts|       43.96|            0.04|\n",
            "+-------------+-------------------+----------+----------+---------+--------------+----------+--------------------+------------+----------------+\n",
            "only showing top 20 rows\n",
            "\n"
          ]
        }
      ]
    },
    {
      "cell_type": "markdown",
      "source": [
        "### Drop columns, rows and missing vlaues andling"
      ],
      "metadata": {
        "id": "o6EdWuUP2n6T"
      }
    },
    {
      "cell_type": "code",
      "source": [
        "df_pyspark = spark.read.csv('drive/MyDrive/PySparkpractice/P9-OLTP_missing_values.csv', header = True, inferSchema=True)\n",
        "df_pyspark.show()"
      ],
      "metadata": {
        "colab": {
          "base_uri": "https://localhost:8080/"
        },
        "id": "6uaYTSAS2yXT",
        "outputId": "f4e18b8e-b355-4fbc-9521-037ae1eace59"
      },
      "execution_count": 24,
      "outputs": [
        {
          "output_type": "stream",
          "name": "stdout",
          "text": [
            "+-------------+----------------+----------+---------+---------+--------------+----------+--------------------+------------+----------------+\n",
            "|TransactionID|       Timestamp|CustomerID|     Name|  Surname|Shipping_State|      Item|         Description|Retail_Price|Loyalty_Discount|\n",
            "+-------------+----------------+----------+---------+---------+--------------+----------+--------------------+------------+----------------+\n",
            "|       113255|13/12/2016 18:05| 200000663|  Leonard|  Jackson|      Delaware|8619953091|          Pillowcase|       18.96|            0.02|\n",
            "|       113254|13/12/2016 18:05| 200000661|    Lucas|  Abraham|     Louisiana|2020397001|    Men's Pajama Set|        23.1|             0.0|\n",
            "|       113253|13/12/2016 18:03| 200000662|   Trevor|  Skinner|     Louisiana|4681342313|              Sheets|        29.9|             0.1|\n",
            "|       113252|13/12/2016 18:01| 100000007|  Dorothy|  Thomson|       Alabama|      null|                Coat|       159.8|            0.07|\n",
            "|       113251|13/12/2016 18:01| 400000180|     Eric|    Bower| New Hampshire|6697166886|                Coat|       159.8|            null|\n",
            "|       113250|13/12/2016 17:59| 200000701|   Joshua|   Wilson|North Carolina|5187373849|          Short Slip|       12.87|             0.1|\n",
            "|       113249|            null| 300000467|   Angela| Morrison|          Utah|7010679527|             Blanket|       63.84|            0.08|\n",
            "|       113248|13/12/2016 17:58| 400000706| Samantha|    Mills|       Alabama|1893735141|                null|       115.5|             0.1|\n",
            "|       113247|13/12/2016 17:57| 100000061|    Kylie|   Howard|     Minnesota|8241463559|              Wallet|       49.75|             0.1|\n",
            "|       113246|13/12/2016 17:55| 400000513|      Amy|  Wilkins|     Minnesota|2430071492|         Dust Ruffle|       41.86|            0.02|\n",
            "|       113245|13/12/2016 17:51| 200000459|  Charles|    Brown|       Arizona|6988128169|             Handbag|        null|            0.04|\n",
            "|       113244|13/12/2016 17:48| 200000482|   Justin|   Graham|          null|7270957383|               Scarf|       29.85|            0.01|\n",
            "|       113243|13/12/2016 17:48| 100000081|     Joan| Buckland|     Minnesota|6228611532|             Valance|       47.76|            0.02|\n",
            "|       113242|13/12/2016 17:46| 200000821|  Charles|Underwood|         Texas|1940915493|           Long Gown|       68.77|            0.08|\n",
            "|       113241|13/12/2016 17:45| 300000015|Madeleine| Marshall|       Arizona|3305177499|Coveralls (long s...|       95.88|            0.08|\n",
            "|       113240|13/12/2016 17:43|      null| Nicholas|    Lyman|North Carolina|4924918902|             T-shirt|       62.79|            0.09|\n",
            "|       113239|13/12/2016 17:42| 300000822|  Leonard|   Fisher|         Maine|2363094138|      Short Overalls|       71.82|            0.07|\n",
            "|       113238|13/12/2016 17:42| 300000815|    Pippa|Robertson| Massachusetts|2355020550|             Sweater|       67.92|            0.03|\n",
            "|       113237|13/12/2016 17:42| 100000618|   Andrew|   Wright|        Wyomin|3890778939|   Suit & 2 pc Dress|      125.16|            0.08|\n",
            "|       113236|13/12/2016 17:42| 100000051|   Sophie|  Wilkins|    Washington|5153370805|              Shorts|       43.96|            0.04|\n",
            "+-------------+----------------+----------+---------+---------+--------------+----------+--------------------+------------+----------------+\n",
            "only showing top 20 rows\n",
            "\n"
          ]
        }
      ]
    },
    {
      "cell_type": "code",
      "source": [
        "#drop all rows with null values. default how =='any'\n",
        "df_pyspark.na.drop().show()"
      ],
      "metadata": {
        "colab": {
          "base_uri": "https://localhost:8080/"
        },
        "id": "lS-HO-pM5Ala",
        "outputId": "a66e62d7-7684-44eb-f8ff-74aa8ada4c1d"
      },
      "execution_count": 25,
      "outputs": [
        {
          "output_type": "stream",
          "name": "stdout",
          "text": [
            "+-------------+----------------+----------+---------+---------+--------------+----------+--------------------+------------+----------------+\n",
            "|TransactionID|       Timestamp|CustomerID|     Name|  Surname|Shipping_State|      Item|         Description|Retail_Price|Loyalty_Discount|\n",
            "+-------------+----------------+----------+---------+---------+--------------+----------+--------------------+------------+----------------+\n",
            "|       113255|13/12/2016 18:05| 200000663|  Leonard|  Jackson|      Delaware|8619953091|          Pillowcase|       18.96|            0.02|\n",
            "|       113254|13/12/2016 18:05| 200000661|    Lucas|  Abraham|     Louisiana|2020397001|    Men's Pajama Set|        23.1|             0.0|\n",
            "|       113253|13/12/2016 18:03| 200000662|   Trevor|  Skinner|     Louisiana|4681342313|              Sheets|        29.9|             0.1|\n",
            "|       113250|13/12/2016 17:59| 200000701|   Joshua|   Wilson|North Carolina|5187373849|          Short Slip|       12.87|             0.1|\n",
            "|       113247|13/12/2016 17:57| 100000061|    Kylie|   Howard|     Minnesota|8241463559|              Wallet|       49.75|             0.1|\n",
            "|       113246|13/12/2016 17:55| 400000513|      Amy|  Wilkins|     Minnesota|2430071492|         Dust Ruffle|       41.86|            0.02|\n",
            "|       113243|13/12/2016 17:48| 100000081|     Joan| Buckland|     Minnesota|6228611532|             Valance|       47.76|            0.02|\n",
            "|       113242|13/12/2016 17:46| 200000821|  Charles|Underwood|         Texas|1940915493|           Long Gown|       68.77|            0.08|\n",
            "|       113241|13/12/2016 17:45| 300000015|Madeleine| Marshall|       Arizona|3305177499|Coveralls (long s...|       95.88|            0.08|\n",
            "|       113239|13/12/2016 17:42| 300000822|  Leonard|   Fisher|         Maine|2363094138|      Short Overalls|       71.82|            0.07|\n",
            "|       113238|13/12/2016 17:42| 300000815|    Pippa|Robertson| Massachusetts|2355020550|             Sweater|       67.92|            0.03|\n",
            "|       113237|13/12/2016 17:42| 100000618|   Andrew|   Wright|        Wyomin|3890778939|   Suit & 2 pc Dress|      125.16|            0.08|\n",
            "|       113236|13/12/2016 17:42| 100000051|   Sophie|  Wilkins|    Washington|5153370805|              Shorts|       43.96|            0.04|\n",
            "|       113234|13/12/2016 17:40| 100000898| Samantha|     Ross|        Montan|2695940506|             Sweater|        59.4|            0.02|\n",
            "|       113231|13/12/2016 17:38| 100000878| Felicity| Metcalfe|       Florida|8068199275|              Slacks|       87.78|            0.03|\n",
            "|       113230|13/12/2016 17:36| 100000013|     Ryan|MacDonald|      Delaware|2588421965|       Commode Cover|       15.84|            0.08|\n",
            "|       113227|13/12/2016 17:33| 100000158|  Michael|   Powell|North Carolina|3126356136|        Formal Dress|        99.9|            0.09|\n",
            "|       113226|13/12/2016 17:33| 300000023|  Deirdre| McDonald|      New York|2178891798|          Hand Towel|       18.17|            0.05|\n",
            "|       113225|13/12/2016 17:33| 100000923|   Andrea|Henderson|      Missouri|3795753080|               Jeans|        38.1|            0.09|\n",
            "|       113224|13/12/2016 17:29| 100000251|    Fiona|    Jones|  South Dakota|2210750188|              Blazer|      119.76|             0.1|\n",
            "+-------------+----------------+----------+---------+---------+--------------+----------+--------------------+------------+----------------+\n",
            "only showing top 20 rows\n",
            "\n"
          ]
        }
      ]
    },
    {
      "cell_type": "code",
      "source": [
        "#drop all rows where a row only have null values. how == 'all'\n",
        "df_pyspark.na.drop(how='all').show()"
      ],
      "metadata": {
        "colab": {
          "base_uri": "https://localhost:8080/"
        },
        "id": "pYjVfifT52Dl",
        "outputId": "30e1d2b0-2077-47e4-c53e-32dc8b10aede"
      },
      "execution_count": 26,
      "outputs": [
        {
          "output_type": "stream",
          "name": "stdout",
          "text": [
            "+-------------+----------------+----------+---------+---------+--------------+----------+--------------------+------------+----------------+\n",
            "|TransactionID|       Timestamp|CustomerID|     Name|  Surname|Shipping_State|      Item|         Description|Retail_Price|Loyalty_Discount|\n",
            "+-------------+----------------+----------+---------+---------+--------------+----------+--------------------+------------+----------------+\n",
            "|       113255|13/12/2016 18:05| 200000663|  Leonard|  Jackson|      Delaware|8619953091|          Pillowcase|       18.96|            0.02|\n",
            "|       113254|13/12/2016 18:05| 200000661|    Lucas|  Abraham|     Louisiana|2020397001|    Men's Pajama Set|        23.1|             0.0|\n",
            "|       113253|13/12/2016 18:03| 200000662|   Trevor|  Skinner|     Louisiana|4681342313|              Sheets|        29.9|             0.1|\n",
            "|       113252|13/12/2016 18:01| 100000007|  Dorothy|  Thomson|       Alabama|      null|                Coat|       159.8|            0.07|\n",
            "|       113251|13/12/2016 18:01| 400000180|     Eric|    Bower| New Hampshire|6697166886|                Coat|       159.8|            null|\n",
            "|       113250|13/12/2016 17:59| 200000701|   Joshua|   Wilson|North Carolina|5187373849|          Short Slip|       12.87|             0.1|\n",
            "|       113249|            null| 300000467|   Angela| Morrison|          Utah|7010679527|             Blanket|       63.84|            0.08|\n",
            "|       113248|13/12/2016 17:58| 400000706| Samantha|    Mills|       Alabama|1893735141|                null|       115.5|             0.1|\n",
            "|       113247|13/12/2016 17:57| 100000061|    Kylie|   Howard|     Minnesota|8241463559|              Wallet|       49.75|             0.1|\n",
            "|       113246|13/12/2016 17:55| 400000513|      Amy|  Wilkins|     Minnesota|2430071492|         Dust Ruffle|       41.86|            0.02|\n",
            "|       113245|13/12/2016 17:51| 200000459|  Charles|    Brown|       Arizona|6988128169|             Handbag|        null|            0.04|\n",
            "|       113244|13/12/2016 17:48| 200000482|   Justin|   Graham|          null|7270957383|               Scarf|       29.85|            0.01|\n",
            "|       113243|13/12/2016 17:48| 100000081|     Joan| Buckland|     Minnesota|6228611532|             Valance|       47.76|            0.02|\n",
            "|       113242|13/12/2016 17:46| 200000821|  Charles|Underwood|         Texas|1940915493|           Long Gown|       68.77|            0.08|\n",
            "|       113241|13/12/2016 17:45| 300000015|Madeleine| Marshall|       Arizona|3305177499|Coveralls (long s...|       95.88|            0.08|\n",
            "|       113240|13/12/2016 17:43|      null| Nicholas|    Lyman|North Carolina|4924918902|             T-shirt|       62.79|            0.09|\n",
            "|       113239|13/12/2016 17:42| 300000822|  Leonard|   Fisher|         Maine|2363094138|      Short Overalls|       71.82|            0.07|\n",
            "|       113238|13/12/2016 17:42| 300000815|    Pippa|Robertson| Massachusetts|2355020550|             Sweater|       67.92|            0.03|\n",
            "|       113237|13/12/2016 17:42| 100000618|   Andrew|   Wright|        Wyomin|3890778939|   Suit & 2 pc Dress|      125.16|            0.08|\n",
            "|       113236|13/12/2016 17:42| 100000051|   Sophie|  Wilkins|    Washington|5153370805|              Shorts|       43.96|            0.04|\n",
            "+-------------+----------------+----------+---------+---------+--------------+----------+--------------------+------------+----------------+\n",
            "only showing top 20 rows\n",
            "\n"
          ]
        }
      ]
    },
    {
      "cell_type": "code",
      "source": [
        "#drop all rows where at least 2 non null values are not present. how == 'any', threshold == 2\n",
        "df_pyspark.na.drop(how='all', thresh=2).show()"
      ],
      "metadata": {
        "colab": {
          "base_uri": "https://localhost:8080/"
        },
        "id": "zIgDpfgV7NtV",
        "outputId": "13921dad-3e76-4e8e-ab65-f199902a5717"
      },
      "execution_count": 27,
      "outputs": [
        {
          "output_type": "stream",
          "name": "stdout",
          "text": [
            "+-------------+----------------+----------+---------+---------+--------------+----------+--------------------+------------+----------------+\n",
            "|TransactionID|       Timestamp|CustomerID|     Name|  Surname|Shipping_State|      Item|         Description|Retail_Price|Loyalty_Discount|\n",
            "+-------------+----------------+----------+---------+---------+--------------+----------+--------------------+------------+----------------+\n",
            "|       113255|13/12/2016 18:05| 200000663|  Leonard|  Jackson|      Delaware|8619953091|          Pillowcase|       18.96|            0.02|\n",
            "|       113254|13/12/2016 18:05| 200000661|    Lucas|  Abraham|     Louisiana|2020397001|    Men's Pajama Set|        23.1|             0.0|\n",
            "|       113253|13/12/2016 18:03| 200000662|   Trevor|  Skinner|     Louisiana|4681342313|              Sheets|        29.9|             0.1|\n",
            "|       113252|13/12/2016 18:01| 100000007|  Dorothy|  Thomson|       Alabama|      null|                Coat|       159.8|            0.07|\n",
            "|       113251|13/12/2016 18:01| 400000180|     Eric|    Bower| New Hampshire|6697166886|                Coat|       159.8|            null|\n",
            "|       113250|13/12/2016 17:59| 200000701|   Joshua|   Wilson|North Carolina|5187373849|          Short Slip|       12.87|             0.1|\n",
            "|       113249|            null| 300000467|   Angela| Morrison|          Utah|7010679527|             Blanket|       63.84|            0.08|\n",
            "|       113248|13/12/2016 17:58| 400000706| Samantha|    Mills|       Alabama|1893735141|                null|       115.5|             0.1|\n",
            "|       113247|13/12/2016 17:57| 100000061|    Kylie|   Howard|     Minnesota|8241463559|              Wallet|       49.75|             0.1|\n",
            "|       113246|13/12/2016 17:55| 400000513|      Amy|  Wilkins|     Minnesota|2430071492|         Dust Ruffle|       41.86|            0.02|\n",
            "|       113245|13/12/2016 17:51| 200000459|  Charles|    Brown|       Arizona|6988128169|             Handbag|        null|            0.04|\n",
            "|       113244|13/12/2016 17:48| 200000482|   Justin|   Graham|          null|7270957383|               Scarf|       29.85|            0.01|\n",
            "|       113243|13/12/2016 17:48| 100000081|     Joan| Buckland|     Minnesota|6228611532|             Valance|       47.76|            0.02|\n",
            "|       113242|13/12/2016 17:46| 200000821|  Charles|Underwood|         Texas|1940915493|           Long Gown|       68.77|            0.08|\n",
            "|       113241|13/12/2016 17:45| 300000015|Madeleine| Marshall|       Arizona|3305177499|Coveralls (long s...|       95.88|            0.08|\n",
            "|       113240|13/12/2016 17:43|      null| Nicholas|    Lyman|North Carolina|4924918902|             T-shirt|       62.79|            0.09|\n",
            "|       113239|13/12/2016 17:42| 300000822|  Leonard|   Fisher|         Maine|2363094138|      Short Overalls|       71.82|            0.07|\n",
            "|       113238|13/12/2016 17:42| 300000815|    Pippa|Robertson| Massachusetts|2355020550|             Sweater|       67.92|            0.03|\n",
            "|       113237|13/12/2016 17:42| 100000618|   Andrew|   Wright|        Wyomin|3890778939|   Suit & 2 pc Dress|      125.16|            0.08|\n",
            "|       113236|13/12/2016 17:42| 100000051|   Sophie|  Wilkins|    Washington|5153370805|              Shorts|       43.96|            0.04|\n",
            "+-------------+----------------+----------+---------+---------+--------------+----------+--------------------+------------+----------------+\n",
            "only showing top 20 rows\n",
            "\n"
          ]
        }
      ]
    },
    {
      "cell_type": "code",
      "source": [
        "#drop rows that have null values on column CustomerID. subset=[list of column names]\n",
        "df_pyspark.na.drop(how='all', subset=['CustomerID']).show()"
      ],
      "metadata": {
        "colab": {
          "base_uri": "https://localhost:8080/"
        },
        "id": "0rTZOy899PNM",
        "outputId": "6995f905-b193-46f3-f312-1997114897e6"
      },
      "execution_count": 28,
      "outputs": [
        {
          "output_type": "stream",
          "name": "stdout",
          "text": [
            "+-------------+----------------+----------+---------+---------+--------------+----------+--------------------+------------+----------------+\n",
            "|TransactionID|       Timestamp|CustomerID|     Name|  Surname|Shipping_State|      Item|         Description|Retail_Price|Loyalty_Discount|\n",
            "+-------------+----------------+----------+---------+---------+--------------+----------+--------------------+------------+----------------+\n",
            "|       113255|13/12/2016 18:05| 200000663|  Leonard|  Jackson|      Delaware|8619953091|          Pillowcase|       18.96|            0.02|\n",
            "|       113254|13/12/2016 18:05| 200000661|    Lucas|  Abraham|     Louisiana|2020397001|    Men's Pajama Set|        23.1|             0.0|\n",
            "|       113253|13/12/2016 18:03| 200000662|   Trevor|  Skinner|     Louisiana|4681342313|              Sheets|        29.9|             0.1|\n",
            "|       113252|13/12/2016 18:01| 100000007|  Dorothy|  Thomson|       Alabama|      null|                Coat|       159.8|            0.07|\n",
            "|       113251|13/12/2016 18:01| 400000180|     Eric|    Bower| New Hampshire|6697166886|                Coat|       159.8|            null|\n",
            "|       113250|13/12/2016 17:59| 200000701|   Joshua|   Wilson|North Carolina|5187373849|          Short Slip|       12.87|             0.1|\n",
            "|       113249|            null| 300000467|   Angela| Morrison|          Utah|7010679527|             Blanket|       63.84|            0.08|\n",
            "|       113248|13/12/2016 17:58| 400000706| Samantha|    Mills|       Alabama|1893735141|                null|       115.5|             0.1|\n",
            "|       113247|13/12/2016 17:57| 100000061|    Kylie|   Howard|     Minnesota|8241463559|              Wallet|       49.75|             0.1|\n",
            "|       113246|13/12/2016 17:55| 400000513|      Amy|  Wilkins|     Minnesota|2430071492|         Dust Ruffle|       41.86|            0.02|\n",
            "|       113245|13/12/2016 17:51| 200000459|  Charles|    Brown|       Arizona|6988128169|             Handbag|        null|            0.04|\n",
            "|       113244|13/12/2016 17:48| 200000482|   Justin|   Graham|          null|7270957383|               Scarf|       29.85|            0.01|\n",
            "|       113243|13/12/2016 17:48| 100000081|     Joan| Buckland|     Minnesota|6228611532|             Valance|       47.76|            0.02|\n",
            "|       113242|13/12/2016 17:46| 200000821|  Charles|Underwood|         Texas|1940915493|           Long Gown|       68.77|            0.08|\n",
            "|       113241|13/12/2016 17:45| 300000015|Madeleine| Marshall|       Arizona|3305177499|Coveralls (long s...|       95.88|            0.08|\n",
            "|       113239|13/12/2016 17:42| 300000822|  Leonard|   Fisher|         Maine|2363094138|      Short Overalls|       71.82|            0.07|\n",
            "|       113238|13/12/2016 17:42| 300000815|    Pippa|Robertson| Massachusetts|2355020550|             Sweater|       67.92|            0.03|\n",
            "|       113237|13/12/2016 17:42| 100000618|   Andrew|   Wright|        Wyomin|3890778939|   Suit & 2 pc Dress|      125.16|            0.08|\n",
            "|       113236|13/12/2016 17:42| 100000051|   Sophie|  Wilkins|    Washington|5153370805|              Shorts|       43.96|            0.04|\n",
            "|       113235|13/12/2016 17:42| 100000880|   Rachel| Springer|  North Dakota|1737807900|                 Tie|       68.64|            null|\n",
            "+-------------+----------------+----------+---------+---------+--------------+----------+--------------------+------------+----------------+\n",
            "only showing top 20 rows\n",
            "\n"
          ]
        }
      ]
    },
    {
      "cell_type": "code",
      "source": [
        "#Filling missing values\n",
        "df_pyspark.na.fill('MissingValue').show() #Only fill the columns with type = String"
      ],
      "metadata": {
        "colab": {
          "base_uri": "https://localhost:8080/"
        },
        "id": "zadwO5RN9-jG",
        "outputId": "e952040e-bd61-4b09-9cbb-dd4a612184f6"
      },
      "execution_count": 29,
      "outputs": [
        {
          "output_type": "stream",
          "name": "stdout",
          "text": [
            "+-------------+----------------+----------+---------+---------+--------------+----------+--------------------+------------+----------------+\n",
            "|TransactionID|       Timestamp|CustomerID|     Name|  Surname|Shipping_State|      Item|         Description|Retail_Price|Loyalty_Discount|\n",
            "+-------------+----------------+----------+---------+---------+--------------+----------+--------------------+------------+----------------+\n",
            "|       113255|13/12/2016 18:05| 200000663|  Leonard|  Jackson|      Delaware|8619953091|          Pillowcase|       18.96|            0.02|\n",
            "|       113254|13/12/2016 18:05| 200000661|    Lucas|  Abraham|     Louisiana|2020397001|    Men's Pajama Set|        23.1|             0.0|\n",
            "|       113253|13/12/2016 18:03| 200000662|   Trevor|  Skinner|     Louisiana|4681342313|              Sheets|        29.9|             0.1|\n",
            "|       113252|13/12/2016 18:01| 100000007|  Dorothy|  Thomson|       Alabama|      null|                Coat|       159.8|            0.07|\n",
            "|       113251|13/12/2016 18:01| 400000180|     Eric|    Bower| New Hampshire|6697166886|                Coat|       159.8|            null|\n",
            "|       113250|13/12/2016 17:59| 200000701|   Joshua|   Wilson|North Carolina|5187373849|          Short Slip|       12.87|             0.1|\n",
            "|       113249|    MissingValue| 300000467|   Angela| Morrison|          Utah|7010679527|             Blanket|       63.84|            0.08|\n",
            "|       113248|13/12/2016 17:58| 400000706| Samantha|    Mills|       Alabama|1893735141|        MissingValue|       115.5|             0.1|\n",
            "|       113247|13/12/2016 17:57| 100000061|    Kylie|   Howard|     Minnesota|8241463559|              Wallet|       49.75|             0.1|\n",
            "|       113246|13/12/2016 17:55| 400000513|      Amy|  Wilkins|     Minnesota|2430071492|         Dust Ruffle|       41.86|            0.02|\n",
            "|       113245|13/12/2016 17:51| 200000459|  Charles|    Brown|       Arizona|6988128169|             Handbag|        null|            0.04|\n",
            "|       113244|13/12/2016 17:48| 200000482|   Justin|   Graham|  MissingValue|7270957383|               Scarf|       29.85|            0.01|\n",
            "|       113243|13/12/2016 17:48| 100000081|     Joan| Buckland|     Minnesota|6228611532|             Valance|       47.76|            0.02|\n",
            "|       113242|13/12/2016 17:46| 200000821|  Charles|Underwood|         Texas|1940915493|           Long Gown|       68.77|            0.08|\n",
            "|       113241|13/12/2016 17:45| 300000015|Madeleine| Marshall|       Arizona|3305177499|Coveralls (long s...|       95.88|            0.08|\n",
            "|       113240|13/12/2016 17:43|      null| Nicholas|    Lyman|North Carolina|4924918902|             T-shirt|       62.79|            0.09|\n",
            "|       113239|13/12/2016 17:42| 300000822|  Leonard|   Fisher|         Maine|2363094138|      Short Overalls|       71.82|            0.07|\n",
            "|       113238|13/12/2016 17:42| 300000815|    Pippa|Robertson| Massachusetts|2355020550|             Sweater|       67.92|            0.03|\n",
            "|       113237|13/12/2016 17:42| 100000618|   Andrew|   Wright|        Wyomin|3890778939|   Suit & 2 pc Dress|      125.16|            0.08|\n",
            "|       113236|13/12/2016 17:42| 100000051|   Sophie|  Wilkins|    Washington|5153370805|              Shorts|       43.96|            0.04|\n",
            "+-------------+----------------+----------+---------+---------+--------------+----------+--------------------+------------+----------------+\n",
            "only showing top 20 rows\n",
            "\n"
          ]
        }
      ]
    },
    {
      "cell_type": "code",
      "source": [
        "#Filling missing values\n",
        "df_pyspark.na.fill(99).show() #Only fill the columns with type = Integer"
      ],
      "metadata": {
        "colab": {
          "base_uri": "https://localhost:8080/"
        },
        "id": "uEe9jvgB-gfu",
        "outputId": "0a6e43b7-20dc-484f-9c20-7838f97a7124"
      },
      "execution_count": 30,
      "outputs": [
        {
          "output_type": "stream",
          "name": "stdout",
          "text": [
            "+-------------+----------------+----------+---------+---------+--------------+----------+--------------------+------------+----------------+\n",
            "|TransactionID|       Timestamp|CustomerID|     Name|  Surname|Shipping_State|      Item|         Description|Retail_Price|Loyalty_Discount|\n",
            "+-------------+----------------+----------+---------+---------+--------------+----------+--------------------+------------+----------------+\n",
            "|       113255|13/12/2016 18:05| 200000663|  Leonard|  Jackson|      Delaware|8619953091|          Pillowcase|       18.96|            0.02|\n",
            "|       113254|13/12/2016 18:05| 200000661|    Lucas|  Abraham|     Louisiana|2020397001|    Men's Pajama Set|        23.1|             0.0|\n",
            "|       113253|13/12/2016 18:03| 200000662|   Trevor|  Skinner|     Louisiana|4681342313|              Sheets|        29.9|             0.1|\n",
            "|       113252|13/12/2016 18:01| 100000007|  Dorothy|  Thomson|       Alabama|        99|                Coat|       159.8|            0.07|\n",
            "|       113251|13/12/2016 18:01| 400000180|     Eric|    Bower| New Hampshire|6697166886|                Coat|       159.8|            99.0|\n",
            "|       113250|13/12/2016 17:59| 200000701|   Joshua|   Wilson|North Carolina|5187373849|          Short Slip|       12.87|             0.1|\n",
            "|       113249|            null| 300000467|   Angela| Morrison|          Utah|7010679527|             Blanket|       63.84|            0.08|\n",
            "|       113248|13/12/2016 17:58| 400000706| Samantha|    Mills|       Alabama|1893735141|                null|       115.5|             0.1|\n",
            "|       113247|13/12/2016 17:57| 100000061|    Kylie|   Howard|     Minnesota|8241463559|              Wallet|       49.75|             0.1|\n",
            "|       113246|13/12/2016 17:55| 400000513|      Amy|  Wilkins|     Minnesota|2430071492|         Dust Ruffle|       41.86|            0.02|\n",
            "|       113245|13/12/2016 17:51| 200000459|  Charles|    Brown|       Arizona|6988128169|             Handbag|        99.0|            0.04|\n",
            "|       113244|13/12/2016 17:48| 200000482|   Justin|   Graham|          null|7270957383|               Scarf|       29.85|            0.01|\n",
            "|       113243|13/12/2016 17:48| 100000081|     Joan| Buckland|     Minnesota|6228611532|             Valance|       47.76|            0.02|\n",
            "|       113242|13/12/2016 17:46| 200000821|  Charles|Underwood|         Texas|1940915493|           Long Gown|       68.77|            0.08|\n",
            "|       113241|13/12/2016 17:45| 300000015|Madeleine| Marshall|       Arizona|3305177499|Coveralls (long s...|       95.88|            0.08|\n",
            "|       113240|13/12/2016 17:43|        99| Nicholas|    Lyman|North Carolina|4924918902|             T-shirt|       62.79|            0.09|\n",
            "|       113239|13/12/2016 17:42| 300000822|  Leonard|   Fisher|         Maine|2363094138|      Short Overalls|       71.82|            0.07|\n",
            "|       113238|13/12/2016 17:42| 300000815|    Pippa|Robertson| Massachusetts|2355020550|             Sweater|       67.92|            0.03|\n",
            "|       113237|13/12/2016 17:42| 100000618|   Andrew|   Wright|        Wyomin|3890778939|   Suit & 2 pc Dress|      125.16|            0.08|\n",
            "|       113236|13/12/2016 17:42| 100000051|   Sophie|  Wilkins|    Washington|5153370805|              Shorts|       43.96|            0.04|\n",
            "+-------------+----------------+----------+---------+---------+--------------+----------+--------------------+------------+----------------+\n",
            "only showing top 20 rows\n",
            "\n"
          ]
        }
      ]
    },
    {
      "cell_type": "code",
      "source": [
        "#Filling missing values of a specific column/s\n",
        "df_pyspark.na.fill(999999, ['Item', 'Loyalty_Discount']).show()"
      ],
      "metadata": {
        "colab": {
          "base_uri": "https://localhost:8080/"
        },
        "id": "HjGbXNvkA6YA",
        "outputId": "e95cd25c-6f63-49a4-a6a3-32b4534855f4"
      },
      "execution_count": 31,
      "outputs": [
        {
          "output_type": "stream",
          "name": "stdout",
          "text": [
            "+-------------+----------------+----------+---------+---------+--------------+----------+--------------------+------------+----------------+\n",
            "|TransactionID|       Timestamp|CustomerID|     Name|  Surname|Shipping_State|      Item|         Description|Retail_Price|Loyalty_Discount|\n",
            "+-------------+----------------+----------+---------+---------+--------------+----------+--------------------+------------+----------------+\n",
            "|       113255|13/12/2016 18:05| 200000663|  Leonard|  Jackson|      Delaware|8619953091|          Pillowcase|       18.96|            0.02|\n",
            "|       113254|13/12/2016 18:05| 200000661|    Lucas|  Abraham|     Louisiana|2020397001|    Men's Pajama Set|        23.1|             0.0|\n",
            "|       113253|13/12/2016 18:03| 200000662|   Trevor|  Skinner|     Louisiana|4681342313|              Sheets|        29.9|             0.1|\n",
            "|       113252|13/12/2016 18:01| 100000007|  Dorothy|  Thomson|       Alabama|    999999|                Coat|       159.8|            0.07|\n",
            "|       113251|13/12/2016 18:01| 400000180|     Eric|    Bower| New Hampshire|6697166886|                Coat|       159.8|        999999.0|\n",
            "|       113250|13/12/2016 17:59| 200000701|   Joshua|   Wilson|North Carolina|5187373849|          Short Slip|       12.87|             0.1|\n",
            "|       113249|            null| 300000467|   Angela| Morrison|          Utah|7010679527|             Blanket|       63.84|            0.08|\n",
            "|       113248|13/12/2016 17:58| 400000706| Samantha|    Mills|       Alabama|1893735141|                null|       115.5|             0.1|\n",
            "|       113247|13/12/2016 17:57| 100000061|    Kylie|   Howard|     Minnesota|8241463559|              Wallet|       49.75|             0.1|\n",
            "|       113246|13/12/2016 17:55| 400000513|      Amy|  Wilkins|     Minnesota|2430071492|         Dust Ruffle|       41.86|            0.02|\n",
            "|       113245|13/12/2016 17:51| 200000459|  Charles|    Brown|       Arizona|6988128169|             Handbag|        null|            0.04|\n",
            "|       113244|13/12/2016 17:48| 200000482|   Justin|   Graham|          null|7270957383|               Scarf|       29.85|            0.01|\n",
            "|       113243|13/12/2016 17:48| 100000081|     Joan| Buckland|     Minnesota|6228611532|             Valance|       47.76|            0.02|\n",
            "|       113242|13/12/2016 17:46| 200000821|  Charles|Underwood|         Texas|1940915493|           Long Gown|       68.77|            0.08|\n",
            "|       113241|13/12/2016 17:45| 300000015|Madeleine| Marshall|       Arizona|3305177499|Coveralls (long s...|       95.88|            0.08|\n",
            "|       113240|13/12/2016 17:43|      null| Nicholas|    Lyman|North Carolina|4924918902|             T-shirt|       62.79|            0.09|\n",
            "|       113239|13/12/2016 17:42| 300000822|  Leonard|   Fisher|         Maine|2363094138|      Short Overalls|       71.82|            0.07|\n",
            "|       113238|13/12/2016 17:42| 300000815|    Pippa|Robertson| Massachusetts|2355020550|             Sweater|       67.92|            0.03|\n",
            "|       113237|13/12/2016 17:42| 100000618|   Andrew|   Wright|        Wyomin|3890778939|   Suit & 2 pc Dress|      125.16|            0.08|\n",
            "|       113236|13/12/2016 17:42| 100000051|   Sophie|  Wilkins|    Washington|5153370805|              Shorts|       43.96|            0.04|\n",
            "+-------------+----------------+----------+---------+---------+--------------+----------+--------------------+------------+----------------+\n",
            "only showing top 20 rows\n",
            "\n"
          ]
        }
      ]
    },
    {
      "cell_type": "code",
      "source": [
        "#Create new columns with Filling missing values of a specific column/s with mean\n",
        "from pyspark.ml.feature import Imputer\n",
        "\n",
        "imputer = Imputer(\n",
        "    inputCols = ['Retail_Price', 'Loyalty_Discount'],\n",
        "    outputCols = ['{}_inputed'.format(c) for c in ['Retail_Price', 'Loyalty_Discount']]\n",
        "    ).setStrategy('mean')"
      ],
      "metadata": {
        "id": "9OmG6iq6Bz1o"
      },
      "execution_count": 32,
      "outputs": []
    },
    {
      "cell_type": "code",
      "source": [
        "imputer.fit(df_pyspark).transform(df_pyspark).show()"
      ],
      "metadata": {
        "colab": {
          "base_uri": "https://localhost:8080/"
        },
        "id": "PUBzAgRXDtJf",
        "outputId": "fc65d255-3b37-4e11-b4fe-3e60299ff578"
      },
      "execution_count": 33,
      "outputs": [
        {
          "output_type": "stream",
          "name": "stdout",
          "text": [
            "+-------------+----------------+----------+---------+---------+--------------+----------+--------------------+------------+----------------+--------------------+------------------------+\n",
            "|TransactionID|       Timestamp|CustomerID|     Name|  Surname|Shipping_State|      Item|         Description|Retail_Price|Loyalty_Discount|Retail_Price_inputed|Loyalty_Discount_inputed|\n",
            "+-------------+----------------+----------+---------+---------+--------------+----------+--------------------+------------+----------------+--------------------+------------------------+\n",
            "|       113255|13/12/2016 18:05| 200000663|  Leonard|  Jackson|      Delaware|8619953091|          Pillowcase|       18.96|            0.02|               18.96|                    0.02|\n",
            "|       113254|13/12/2016 18:05| 200000661|    Lucas|  Abraham|     Louisiana|2020397001|    Men's Pajama Set|        23.1|             0.0|                23.1|                     0.0|\n",
            "|       113253|13/12/2016 18:03| 200000662|   Trevor|  Skinner|     Louisiana|4681342313|              Sheets|        29.9|             0.1|                29.9|                     0.1|\n",
            "|       113252|13/12/2016 18:01| 100000007|  Dorothy|  Thomson|       Alabama|      null|                Coat|       159.8|            0.07|               159.8|                    0.07|\n",
            "|       113251|13/12/2016 18:01| 400000180|     Eric|    Bower| New Hampshire|6697166886|                Coat|       159.8|            null|               159.8|                    0.06|\n",
            "|       113250|13/12/2016 17:59| 200000701|   Joshua|   Wilson|North Carolina|5187373849|          Short Slip|       12.87|             0.1|               12.87|                     0.1|\n",
            "|       113249|            null| 300000467|   Angela| Morrison|          Utah|7010679527|             Blanket|       63.84|            0.08|               63.84|                    0.08|\n",
            "|       113248|13/12/2016 17:58| 400000706| Samantha|    Mills|       Alabama|1893735141|                null|       115.5|             0.1|               115.5|                     0.1|\n",
            "|       113247|13/12/2016 17:57| 100000061|    Kylie|   Howard|     Minnesota|8241463559|              Wallet|       49.75|             0.1|               49.75|                     0.1|\n",
            "|       113246|13/12/2016 17:55| 400000513|      Amy|  Wilkins|     Minnesota|2430071492|         Dust Ruffle|       41.86|            0.02|               41.86|                    0.02|\n",
            "|       113245|13/12/2016 17:51| 200000459|  Charles|    Brown|       Arizona|6988128169|             Handbag|        null|            0.04|    63.3379166666667|                    0.04|\n",
            "|       113244|13/12/2016 17:48| 200000482|   Justin|   Graham|          null|7270957383|               Scarf|       29.85|            0.01|               29.85|                    0.01|\n",
            "|       113243|13/12/2016 17:48| 100000081|     Joan| Buckland|     Minnesota|6228611532|             Valance|       47.76|            0.02|               47.76|                    0.02|\n",
            "|       113242|13/12/2016 17:46| 200000821|  Charles|Underwood|         Texas|1940915493|           Long Gown|       68.77|            0.08|               68.77|                    0.08|\n",
            "|       113241|13/12/2016 17:45| 300000015|Madeleine| Marshall|       Arizona|3305177499|Coveralls (long s...|       95.88|            0.08|               95.88|                    0.08|\n",
            "|       113240|13/12/2016 17:43|      null| Nicholas|    Lyman|North Carolina|4924918902|             T-shirt|       62.79|            0.09|               62.79|                    0.09|\n",
            "|       113239|13/12/2016 17:42| 300000822|  Leonard|   Fisher|         Maine|2363094138|      Short Overalls|       71.82|            0.07|               71.82|                    0.07|\n",
            "|       113238|13/12/2016 17:42| 300000815|    Pippa|Robertson| Massachusetts|2355020550|             Sweater|       67.92|            0.03|               67.92|                    0.03|\n",
            "|       113237|13/12/2016 17:42| 100000618|   Andrew|   Wright|        Wyomin|3890778939|   Suit & 2 pc Dress|      125.16|            0.08|              125.16|                    0.08|\n",
            "|       113236|13/12/2016 17:42| 100000051|   Sophie|  Wilkins|    Washington|5153370805|              Shorts|       43.96|            0.04|               43.96|                    0.04|\n",
            "+-------------+----------------+----------+---------+---------+--------------+----------+--------------------+------------+----------------+--------------------+------------------------+\n",
            "only showing top 20 rows\n",
            "\n"
          ]
        }
      ]
    },
    {
      "cell_type": "markdown",
      "source": [
        "### Filter operations"
      ],
      "metadata": {
        "id": "1tKaSijeEmx6"
      }
    },
    {
      "cell_type": "code",
      "source": [
        "df_pyspark = spark.read.csv('drive/MyDrive/PySparkpractice/P9-OLTP.csv', header = True, inferSchema=True)\n",
        "df_pyspark.show()"
      ],
      "metadata": {
        "colab": {
          "base_uri": "https://localhost:8080/"
        },
        "id": "ctqAjewPEtX4",
        "outputId": "4ad3f49a-b2cd-4dc3-ef3a-8f77a29af6ac"
      },
      "execution_count": 34,
      "outputs": [
        {
          "output_type": "stream",
          "name": "stdout",
          "text": [
            "+-------------+-------------------+----------+---------+---------+--------------+----------+--------------------+------------+----------------+\n",
            "|TransactionID|          Timestamp|CustomerID|     Name|  Surname|Shipping_State|      Item|         Description|Retail_Price|Loyalty_Discount|\n",
            "+-------------+-------------------+----------+---------+---------+--------------+----------+--------------------+------------+----------------+\n",
            "|       113255|2016-12-13 18:05:37| 200000663|  Leonard|  Jackson|      Delaware|8619953091|          Pillowcase|       18.96|            0.02|\n",
            "|       113254|2016-12-13 18:05:22| 200000661|    Lucas|  Abraham|     Louisiana|2020397001|    Men's Pajama Set|        23.1|             0.0|\n",
            "|       113253|2016-12-13 18:03:57| 200000662|   Trevor|  Skinner|     Louisiana|4681342313|              Sheets|        29.9|             0.1|\n",
            "|       113252|2016-12-13 18:01:45| 100000007|  Dorothy|  Thomson|       Alabama|6697166886|                Coat|       159.8|            0.07|\n",
            "|       113251|2016-12-13 18:01:22| 400000180|     Eric|    Bower| New Hampshire|6697166886|                Coat|       159.8|            0.06|\n",
            "|       113250|2016-12-13 17:59:20| 200000701|   Joshua|   Wilson|North Carolina|5187373849|          Short Slip|       12.87|             0.1|\n",
            "|       113249|2016-12-13 17:59:11| 300000467|   Angela| Morrison|          Utah|7010679527|             Blanket|       63.84|            0.08|\n",
            "|       113248|2016-12-13 17:58:07| 400000706| Samantha|    Mills|       Alabama|1893735141|               Socks|       115.5|             0.1|\n",
            "|       113247|2016-12-13 17:57:50| 100000061|    Kylie|   Howard|     Minnesota|8241463559|              Wallet|       49.75|             0.1|\n",
            "|       113246|2016-12-13 17:55:30| 400000513|      Amy|  Wilkins|     Minnesota|2430071492|         Dust Ruffle|       41.86|            0.02|\n",
            "|       113245|2016-12-13 17:51:34| 200000459|  Charles|    Brown|       Arizona|6988128169|             Handbag|       25.44|            0.04|\n",
            "|       113244|2016-12-13 17:48:55| 200000482|   Justin|   Graham|       Arizona|7270957383|               Scarf|       29.85|            0.01|\n",
            "|       113243|2016-12-13 17:48:05| 100000081|     Joan| Buckland|     Minnesota|6228611532|             Valance|       47.76|            0.02|\n",
            "|       113242|2016-12-13 17:46:18| 200000821|  Charles|Underwood|         Texas|1940915493|           Long Gown|       68.77|            0.08|\n",
            "|       113241|2016-12-13 17:45:21| 300000015|Madeleine| Marshall|       Arizona|3305177499|Coveralls (long s...|       95.88|            0.08|\n",
            "|       113240|2016-12-13 17:43:39| 100000252| Nicholas|    Lyman|North Carolina|4924918902|             T-shirt|       62.79|            0.09|\n",
            "|       113239|2016-12-13 17:42:54| 300000822|  Leonard|   Fisher|         Maine|2363094138|      Short Overalls|       71.82|            0.07|\n",
            "|       113238|2016-12-13 17:42:42| 300000815|    Pippa|Robertson| Massachusetts|2355020550|             Sweater|       67.92|            0.03|\n",
            "|       113237|2016-12-13 17:42:31| 100000618|   Andrew|   Wright|        Wyomin|3890778939|   Suit & 2 pc Dress|      125.16|            0.08|\n",
            "|       113236|2016-12-13 17:42:25| 100000051|   Sophie|  Wilkins|    Washington|5153370805|              Shorts|       43.96|            0.04|\n",
            "+-------------+-------------------+----------+---------+---------+--------------+----------+--------------------+------------+----------------+\n",
            "only showing top 20 rows\n",
            "\n"
          ]
        }
      ]
    },
    {
      "cell_type": "code",
      "source": [
        "#Show transaction worth ofless or equal 100 dolars\n",
        "df_pyspark.filter('Retail_Price <= 100').show()"
      ],
      "metadata": {
        "colab": {
          "base_uri": "https://localhost:8080/"
        },
        "id": "H5o1eZsxMIGk",
        "outputId": "298cdde2-f05d-4ae6-8ebc-6da89a41aca8"
      },
      "execution_count": 35,
      "outputs": [
        {
          "output_type": "stream",
          "name": "stdout",
          "text": [
            "+-------------+-------------------+----------+---------+---------+--------------+----------+--------------------+------------+----------------+\n",
            "|TransactionID|          Timestamp|CustomerID|     Name|  Surname|Shipping_State|      Item|         Description|Retail_Price|Loyalty_Discount|\n",
            "+-------------+-------------------+----------+---------+---------+--------------+----------+--------------------+------------+----------------+\n",
            "|       113255|2016-12-13 18:05:37| 200000663|  Leonard|  Jackson|      Delaware|8619953091|          Pillowcase|       18.96|            0.02|\n",
            "|       113254|2016-12-13 18:05:22| 200000661|    Lucas|  Abraham|     Louisiana|2020397001|    Men's Pajama Set|        23.1|             0.0|\n",
            "|       113253|2016-12-13 18:03:57| 200000662|   Trevor|  Skinner|     Louisiana|4681342313|              Sheets|        29.9|             0.1|\n",
            "|       113250|2016-12-13 17:59:20| 200000701|   Joshua|   Wilson|North Carolina|5187373849|          Short Slip|       12.87|             0.1|\n",
            "|       113249|2016-12-13 17:59:11| 300000467|   Angela| Morrison|          Utah|7010679527|             Blanket|       63.84|            0.08|\n",
            "|       113247|2016-12-13 17:57:50| 100000061|    Kylie|   Howard|     Minnesota|8241463559|              Wallet|       49.75|             0.1|\n",
            "|       113246|2016-12-13 17:55:30| 400000513|      Amy|  Wilkins|     Minnesota|2430071492|         Dust Ruffle|       41.86|            0.02|\n",
            "|       113245|2016-12-13 17:51:34| 200000459|  Charles|    Brown|       Arizona|6988128169|             Handbag|       25.44|            0.04|\n",
            "|       113244|2016-12-13 17:48:55| 200000482|   Justin|   Graham|       Arizona|7270957383|               Scarf|       29.85|            0.01|\n",
            "|       113243|2016-12-13 17:48:05| 100000081|     Joan| Buckland|     Minnesota|6228611532|             Valance|       47.76|            0.02|\n",
            "|       113242|2016-12-13 17:46:18| 200000821|  Charles|Underwood|         Texas|1940915493|           Long Gown|       68.77|            0.08|\n",
            "|       113241|2016-12-13 17:45:21| 300000015|Madeleine| Marshall|       Arizona|3305177499|Coveralls (long s...|       95.88|            0.08|\n",
            "|       113240|2016-12-13 17:43:39| 100000252| Nicholas|    Lyman|North Carolina|4924918902|             T-shirt|       62.79|            0.09|\n",
            "|       113239|2016-12-13 17:42:54| 300000822|  Leonard|   Fisher|         Maine|2363094138|      Short Overalls|       71.82|            0.07|\n",
            "|       113238|2016-12-13 17:42:42| 300000815|    Pippa|Robertson| Massachusetts|2355020550|             Sweater|       67.92|            0.03|\n",
            "|       113236|2016-12-13 17:42:25| 100000051|   Sophie|  Wilkins|    Washington|5153370805|              Shorts|       43.96|            0.04|\n",
            "|       113235|2016-12-13 17:42:11| 100000880|   Rachel| Springer|  North Dakota|1737807900|                 Tie|       68.64|            0.03|\n",
            "|       113234|2016-12-13 17:40:07| 100000898| Samantha|     Ross|        Montan|2695940506|             Sweater|        59.4|            0.02|\n",
            "|       113233|2016-12-13 17:40:00| 400000359|Gabrielle|MacDonald|       Vermont|9873264896|                 Hat|       10.89|            0.07|\n",
            "|       113232|2016-12-13 17:39:47| 100000559|    Grace|    Mills| Massachusetts|7270957383|               Scarf|       29.85|            0.09|\n",
            "+-------------+-------------------+----------+---------+---------+--------------+----------+--------------------+------------+----------------+\n",
            "only showing top 20 rows\n",
            "\n"
          ]
        }
      ]
    },
    {
      "cell_type": "code",
      "source": [
        "#Show transaction worth ofless or equal 100 dolars\n",
        "df_pyspark.filter(df_pyspark['Retail_Price'] <= 100).show()"
      ],
      "metadata": {
        "colab": {
          "base_uri": "https://localhost:8080/"
        },
        "id": "jfKGSewOOP5V",
        "outputId": "afb696a3-e2ee-42bc-ef48-2e3f483138b9"
      },
      "execution_count": 36,
      "outputs": [
        {
          "output_type": "stream",
          "name": "stdout",
          "text": [
            "+-------------+-------------------+----------+---------+---------+--------------+----------+--------------------+------------+----------------+\n",
            "|TransactionID|          Timestamp|CustomerID|     Name|  Surname|Shipping_State|      Item|         Description|Retail_Price|Loyalty_Discount|\n",
            "+-------------+-------------------+----------+---------+---------+--------------+----------+--------------------+------------+----------------+\n",
            "|       113255|2016-12-13 18:05:37| 200000663|  Leonard|  Jackson|      Delaware|8619953091|          Pillowcase|       18.96|            0.02|\n",
            "|       113254|2016-12-13 18:05:22| 200000661|    Lucas|  Abraham|     Louisiana|2020397001|    Men's Pajama Set|        23.1|             0.0|\n",
            "|       113253|2016-12-13 18:03:57| 200000662|   Trevor|  Skinner|     Louisiana|4681342313|              Sheets|        29.9|             0.1|\n",
            "|       113250|2016-12-13 17:59:20| 200000701|   Joshua|   Wilson|North Carolina|5187373849|          Short Slip|       12.87|             0.1|\n",
            "|       113249|2016-12-13 17:59:11| 300000467|   Angela| Morrison|          Utah|7010679527|             Blanket|       63.84|            0.08|\n",
            "|       113247|2016-12-13 17:57:50| 100000061|    Kylie|   Howard|     Minnesota|8241463559|              Wallet|       49.75|             0.1|\n",
            "|       113246|2016-12-13 17:55:30| 400000513|      Amy|  Wilkins|     Minnesota|2430071492|         Dust Ruffle|       41.86|            0.02|\n",
            "|       113245|2016-12-13 17:51:34| 200000459|  Charles|    Brown|       Arizona|6988128169|             Handbag|       25.44|            0.04|\n",
            "|       113244|2016-12-13 17:48:55| 200000482|   Justin|   Graham|       Arizona|7270957383|               Scarf|       29.85|            0.01|\n",
            "|       113243|2016-12-13 17:48:05| 100000081|     Joan| Buckland|     Minnesota|6228611532|             Valance|       47.76|            0.02|\n",
            "|       113242|2016-12-13 17:46:18| 200000821|  Charles|Underwood|         Texas|1940915493|           Long Gown|       68.77|            0.08|\n",
            "|       113241|2016-12-13 17:45:21| 300000015|Madeleine| Marshall|       Arizona|3305177499|Coveralls (long s...|       95.88|            0.08|\n",
            "|       113240|2016-12-13 17:43:39| 100000252| Nicholas|    Lyman|North Carolina|4924918902|             T-shirt|       62.79|            0.09|\n",
            "|       113239|2016-12-13 17:42:54| 300000822|  Leonard|   Fisher|         Maine|2363094138|      Short Overalls|       71.82|            0.07|\n",
            "|       113238|2016-12-13 17:42:42| 300000815|    Pippa|Robertson| Massachusetts|2355020550|             Sweater|       67.92|            0.03|\n",
            "|       113236|2016-12-13 17:42:25| 100000051|   Sophie|  Wilkins|    Washington|5153370805|              Shorts|       43.96|            0.04|\n",
            "|       113235|2016-12-13 17:42:11| 100000880|   Rachel| Springer|  North Dakota|1737807900|                 Tie|       68.64|            0.03|\n",
            "|       113234|2016-12-13 17:40:07| 100000898| Samantha|     Ross|        Montan|2695940506|             Sweater|        59.4|            0.02|\n",
            "|       113233|2016-12-13 17:40:00| 400000359|Gabrielle|MacDonald|       Vermont|9873264896|                 Hat|       10.89|            0.07|\n",
            "|       113232|2016-12-13 17:39:47| 100000559|    Grace|    Mills| Massachusetts|7270957383|               Scarf|       29.85|            0.09|\n",
            "+-------------+-------------------+----------+---------+---------+--------------+----------+--------------------+------------+----------------+\n",
            "only showing top 20 rows\n",
            "\n"
          ]
        }
      ]
    },
    {
      "cell_type": "code",
      "source": [
        "#Show transaction worth ofless or equal 100 dolars, and show article description and price\n",
        "df_pyspark.filter('Retail_Price <= 100').select(['Description', 'retail_Price']).show()"
      ],
      "metadata": {
        "colab": {
          "base_uri": "https://localhost:8080/"
        },
        "id": "5AkDB_-RMirD",
        "outputId": "bc9a9c3e-c4dc-4cc7-9562-1c11e535c203"
      },
      "execution_count": 37,
      "outputs": [
        {
          "output_type": "stream",
          "name": "stdout",
          "text": [
            "+--------------------+------------+\n",
            "|         Description|retail_Price|\n",
            "+--------------------+------------+\n",
            "|          Pillowcase|       18.96|\n",
            "|    Men's Pajama Set|        23.1|\n",
            "|              Sheets|        29.9|\n",
            "|          Short Slip|       12.87|\n",
            "|             Blanket|       63.84|\n",
            "|              Wallet|       49.75|\n",
            "|         Dust Ruffle|       41.86|\n",
            "|             Handbag|       25.44|\n",
            "|               Scarf|       29.85|\n",
            "|             Valance|       47.76|\n",
            "|           Long Gown|       68.77|\n",
            "|Coveralls (long s...|       95.88|\n",
            "|             T-shirt|       62.79|\n",
            "|      Short Overalls|       71.82|\n",
            "|             Sweater|       67.92|\n",
            "|              Shorts|       43.96|\n",
            "|                 Tie|       68.64|\n",
            "|             Sweater|        59.4|\n",
            "|                 Hat|       10.89|\n",
            "|               Scarf|       29.85|\n",
            "+--------------------+------------+\n",
            "only showing top 20 rows\n",
            "\n"
          ]
        }
      ]
    },
    {
      "cell_type": "code",
      "source": [
        "#Show transaction worth of less or equal 100 dolars, and were bought by a person named Sophie\n",
        "df_pyspark.filter((df_pyspark['Retail_Price'] <= 100) & (df_pyspark['Name'] == 'Sophie')).show()"
      ],
      "metadata": {
        "colab": {
          "base_uri": "https://localhost:8080/"
        },
        "id": "lHh70IwRO3p_",
        "outputId": "90863b27-13ce-4bb0-9d95-ee539a7dc535"
      },
      "execution_count": 38,
      "outputs": [
        {
          "output_type": "stream",
          "name": "stdout",
          "text": [
            "+-------------+-------------------+----------+------+-------+--------------+----------+-----------+------------+----------------+\n",
            "|TransactionID|          Timestamp|CustomerID|  Name|Surname|Shipping_State|      Item|Description|Retail_Price|Loyalty_Discount|\n",
            "+-------------+-------------------+----------+------+-------+--------------+----------+-----------+------------+----------------+\n",
            "|       113236|2016-12-13 17:42:25| 100000051|Sophie|Wilkins|    Washington|5153370805|     Shorts|       43.96|            0.04|\n",
            "|       113207|2016-12-13 17:10:42| 100000051|Sophie|Wilkins|    Washington|7833392032|      Skirt|       55.86|            0.04|\n",
            "|       112614|2016-12-13 03:47:02| 100000037|Sophie|   Gill|    California|2430071492|Dust Ruffle|       41.86|             0.0|\n",
            "|       112076|2016-12-12 16:46:44| 100000297|Sophie|Thomson|   Pennsylvani|4681342313|     Sheets|        29.9|             0.0|\n",
            "|       111294|2016-12-12 00:50:08| 300000857|Sophie|   Ince|         Maine|3390230025|        Top|       33.48|             0.1|\n",
            "|       110729|2016-12-11 13:01:36| 100000297|Sophie|Thomson|   Pennsylvani|6917448328|      Socks|        8.82|             0.0|\n",
            "|       110457|2016-12-11 07:42:39| 100000051|Sophie|Wilkins|    Washington|4574639519|      Jeans|        14.5|            0.04|\n",
            "|       109973|2016-12-10 21:48:01| 100000297|Sophie|Thomson|   Pennsylvani|5310615417|        Tie|       41.79|             0.0|\n",
            "|       109831|2016-12-10 18:40:36| 100000297|Sophie|Thomson|   Pennsylvani|9280265561|Coat/Jacket|       59.85|             0.0|\n",
            "|       109817|2016-12-10 18:24:36| 300000857|Sophie|   Ince|         Maine|4934584980|Nylon Pants|       55.86|             0.1|\n",
            "+-------------+-------------------+----------+------+-------+--------------+----------+-----------+------------+----------------+\n",
            "\n"
          ]
        }
      ]
    },
    {
      "cell_type": "code",
      "source": [
        "#Show transaction worth of morethan  100 dolars, and were not bought by a person named Sophie\n",
        "df_pyspark.filter(~((df_pyspark['Retail_Price'] <= 100) & (df_pyspark['Name'] == 'Sophie'))).show()"
      ],
      "metadata": {
        "colab": {
          "base_uri": "https://localhost:8080/"
        },
        "id": "7B4qQK3TP23H",
        "outputId": "d5310a71-ada5-4f91-8267-1c38cb1fb1d1"
      },
      "execution_count": 39,
      "outputs": [
        {
          "output_type": "stream",
          "name": "stdout",
          "text": [
            "+-------------+-------------------+----------+---------+---------+--------------+----------+--------------------+------------+----------------+\n",
            "|TransactionID|          Timestamp|CustomerID|     Name|  Surname|Shipping_State|      Item|         Description|Retail_Price|Loyalty_Discount|\n",
            "+-------------+-------------------+----------+---------+---------+--------------+----------+--------------------+------------+----------------+\n",
            "|       113255|2016-12-13 18:05:37| 200000663|  Leonard|  Jackson|      Delaware|8619953091|          Pillowcase|       18.96|            0.02|\n",
            "|       113254|2016-12-13 18:05:22| 200000661|    Lucas|  Abraham|     Louisiana|2020397001|    Men's Pajama Set|        23.1|             0.0|\n",
            "|       113253|2016-12-13 18:03:57| 200000662|   Trevor|  Skinner|     Louisiana|4681342313|              Sheets|        29.9|             0.1|\n",
            "|       113252|2016-12-13 18:01:45| 100000007|  Dorothy|  Thomson|       Alabama|6697166886|                Coat|       159.8|            0.07|\n",
            "|       113251|2016-12-13 18:01:22| 400000180|     Eric|    Bower| New Hampshire|6697166886|                Coat|       159.8|            0.06|\n",
            "|       113250|2016-12-13 17:59:20| 200000701|   Joshua|   Wilson|North Carolina|5187373849|          Short Slip|       12.87|             0.1|\n",
            "|       113249|2016-12-13 17:59:11| 300000467|   Angela| Morrison|          Utah|7010679527|             Blanket|       63.84|            0.08|\n",
            "|       113248|2016-12-13 17:58:07| 400000706| Samantha|    Mills|       Alabama|1893735141|               Socks|       115.5|             0.1|\n",
            "|       113247|2016-12-13 17:57:50| 100000061|    Kylie|   Howard|     Minnesota|8241463559|              Wallet|       49.75|             0.1|\n",
            "|       113246|2016-12-13 17:55:30| 400000513|      Amy|  Wilkins|     Minnesota|2430071492|         Dust Ruffle|       41.86|            0.02|\n",
            "|       113245|2016-12-13 17:51:34| 200000459|  Charles|    Brown|       Arizona|6988128169|             Handbag|       25.44|            0.04|\n",
            "|       113244|2016-12-13 17:48:55| 200000482|   Justin|   Graham|       Arizona|7270957383|               Scarf|       29.85|            0.01|\n",
            "|       113243|2016-12-13 17:48:05| 100000081|     Joan| Buckland|     Minnesota|6228611532|             Valance|       47.76|            0.02|\n",
            "|       113242|2016-12-13 17:46:18| 200000821|  Charles|Underwood|         Texas|1940915493|           Long Gown|       68.77|            0.08|\n",
            "|       113241|2016-12-13 17:45:21| 300000015|Madeleine| Marshall|       Arizona|3305177499|Coveralls (long s...|       95.88|            0.08|\n",
            "|       113240|2016-12-13 17:43:39| 100000252| Nicholas|    Lyman|North Carolina|4924918902|             T-shirt|       62.79|            0.09|\n",
            "|       113239|2016-12-13 17:42:54| 300000822|  Leonard|   Fisher|         Maine|2363094138|      Short Overalls|       71.82|            0.07|\n",
            "|       113238|2016-12-13 17:42:42| 300000815|    Pippa|Robertson| Massachusetts|2355020550|             Sweater|       67.92|            0.03|\n",
            "|       113237|2016-12-13 17:42:31| 100000618|   Andrew|   Wright|        Wyomin|3890778939|   Suit & 2 pc Dress|      125.16|            0.08|\n",
            "|       113235|2016-12-13 17:42:11| 100000880|   Rachel| Springer|  North Dakota|1737807900|                 Tie|       68.64|            0.03|\n",
            "+-------------+-------------------+----------+---------+---------+--------------+----------+--------------------+------------+----------------+\n",
            "only showing top 20 rows\n",
            "\n"
          ]
        }
      ]
    },
    {
      "cell_type": "markdown",
      "source": [
        "### Group by and aggregation functions"
      ],
      "metadata": {
        "id": "1re5hCB8Qnnv"
      }
    },
    {
      "cell_type": "code",
      "source": [
        "#Group by CustomerID and calculate money spent in shopping\n",
        "df_pyspark.groupby('CustomerID').sum('Retail_Price').show()"
      ],
      "metadata": {
        "colab": {
          "base_uri": "https://localhost:8080/"
        },
        "id": "6BnlOP8VQPAv",
        "outputId": "3208df75-9226-4137-e837-6c2ba2414266"
      },
      "execution_count": 40,
      "outputs": [
        {
          "output_type": "stream",
          "name": "stdout",
          "text": [
            "+----------+------------------+\n",
            "|CustomerID| sum(Retail_Price)|\n",
            "+----------+------------------+\n",
            "| 200000100|             88.16|\n",
            "| 100000862|            290.41|\n",
            "| 100000137|218.95000000000002|\n",
            "| 200000751|             104.4|\n",
            "| 200000727|111.53999999999999|\n",
            "| 100000092|            159.74|\n",
            "| 100000226|            184.91|\n",
            "| 100000187| 352.2199999999999|\n",
            "| 300000635|            139.09|\n",
            "| 200000262|183.26999999999998|\n",
            "| 200000534|             49.97|\n",
            "| 200000700|              89.9|\n",
            "| 100000134|            195.68|\n",
            "| 100000838|            188.32|\n",
            "| 100000020|            267.12|\n",
            "| 200000608|            180.42|\n",
            "| 100000208|219.66000000000003|\n",
            "| 400000434|            139.41|\n",
            "| 400000737|            180.61|\n",
            "| 100000435|427.38000000000005|\n",
            "+----------+------------------+\n",
            "only showing top 20 rows\n",
            "\n"
          ]
        }
      ]
    },
    {
      "cell_type": "code",
      "source": [
        "#Calculate mean spent\n",
        "df_pyspark.groupby('CustomerID').mean('retail_price').show()"
      ],
      "metadata": {
        "colab": {
          "base_uri": "https://localhost:8080/"
        },
        "id": "oyzRz9I6QHUn",
        "outputId": "75947c89-0262-45b5-8f7b-4170563e8edd"
      },
      "execution_count": 41,
      "outputs": [
        {
          "output_type": "stream",
          "name": "stdout",
          "text": [
            "+----------+------------------+\n",
            "|CustomerID| avg(retail_price)|\n",
            "+----------+------------------+\n",
            "| 200000100|             22.04|\n",
            "| 100000862| 58.08200000000001|\n",
            "| 100000137| 72.98333333333333|\n",
            "| 200000751|34.800000000000004|\n",
            "| 200000727|55.769999999999996|\n",
            "| 100000092| 53.24666666666667|\n",
            "| 100000226|            36.982|\n",
            "| 100000187| 58.70333333333332|\n",
            "| 300000635|           34.7725|\n",
            "| 200000262|45.817499999999995|\n",
            "| 200000534|16.656666666666666|\n",
            "| 200000700|             44.95|\n",
            "| 100000134|             97.84|\n",
            "| 100000838|             47.08|\n",
            "| 100000020|             89.04|\n",
            "| 200000608| 60.13999999999999|\n",
            "| 100000208|109.83000000000001|\n",
            "| 400000434|             46.47|\n",
            "| 400000737|           45.1525|\n",
            "| 100000435|             71.23|\n",
            "+----------+------------------+\n",
            "only showing top 20 rows\n",
            "\n"
          ]
        }
      ]
    },
    {
      "cell_type": "code",
      "source": [
        "#Calculate how may times each costumer bought\n",
        "df_pyspark.groupby('CustomerID').count().show()"
      ],
      "metadata": {
        "colab": {
          "base_uri": "https://localhost:8080/"
        },
        "id": "mvP9IowhQHRv",
        "outputId": "ac938531-974f-49d4-a11d-85e9d1d5dc12"
      },
      "execution_count": 42,
      "outputs": [
        {
          "output_type": "stream",
          "name": "stdout",
          "text": [
            "+----------+-----+\n",
            "|CustomerID|count|\n",
            "+----------+-----+\n",
            "| 200000100|    4|\n",
            "| 100000862|    5|\n",
            "| 100000137|    3|\n",
            "| 200000751|    3|\n",
            "| 200000727|    2|\n",
            "| 100000092|    3|\n",
            "| 100000226|    5|\n",
            "| 100000187|    6|\n",
            "| 300000635|    4|\n",
            "| 200000262|    4|\n",
            "| 200000534|    3|\n",
            "| 200000700|    2|\n",
            "| 100000134|    2|\n",
            "| 100000838|    4|\n",
            "| 100000020|    3|\n",
            "| 200000608|    3|\n",
            "| 100000208|    2|\n",
            "| 400000434|    3|\n",
            "| 400000737|    4|\n",
            "| 100000435|    6|\n",
            "+----------+-----+\n",
            "only showing top 20 rows\n",
            "\n"
          ]
        }
      ]
    },
    {
      "cell_type": "markdown",
      "source": [
        "### Example of PySpark ML "
      ],
      "metadata": {
        "id": "8JIs5UFHfZSx"
      }
    },
    {
      "cell_type": "markdown",
      "source": [
        "#### predicting Salary using PySpark"
      ],
      "metadata": {
        "id": "iwiHPBrHhneU"
      }
    },
    {
      "cell_type": "markdown",
      "source": [
        "##### Prepare data"
      ],
      "metadata": {
        "id": "Bzzl4zrJp3yc"
      }
    },
    {
      "cell_type": "code",
      "source": [
        "df = spark.read.csv('drive/MyDrive/PySparkpractice/nomes.csv', header = True, inferSchema=True)\n",
        "df.show()"
      ],
      "metadata": {
        "colab": {
          "base_uri": "https://localhost:8080/"
        },
        "id": "c4o9jzBKQHP8",
        "outputId": "3ebde7dd-3994-4840-d185-8ab84a6f0ecb"
      },
      "execution_count": 43,
      "outputs": [
        {
          "output_type": "stream",
          "name": "stdout",
          "text": [
            "+---------+---+----------+------+\n",
            "|     name|age|experience|salary|\n",
            "+---------+---+----------+------+\n",
            "|     luis| 10|        10|100000|\n",
            "|  mafalda| 11|         2|  2000|\n",
            "|    maria| 12|        13|  3000|\n",
            "|  antonio| 13|         4|  4000|\n",
            "|    pedro| 14|         5|  5200|\n",
            "|  cecilia| 15|        26|  6000|\n",
            "|   otavio| 16|         7|  7000|\n",
            "| cristina| 17|         8|  8009|\n",
            "|cristiana| 18|        92|  9000|\n",
            "|    diana| 19|        10| 10000|\n",
            "|     sara| 20|        11|   110|\n",
            "|  roberto| 21|        12| 12000|\n",
            "|    vitor| 22|       130| 13000|\n",
            "|   manuel| 23|        14|  1400|\n",
            "|francisco| 24|        15| 15000|\n",
            "+---------+---+----------+------+\n",
            "\n"
          ]
        }
      ]
    },
    {
      "cell_type": "code",
      "source": [
        "df.printSchema()"
      ],
      "metadata": {
        "colab": {
          "base_uri": "https://localhost:8080/"
        },
        "id": "KrHQdwpJQHMi",
        "outputId": "d996b10a-8c37-467c-ade5-50ad3c1e3415"
      },
      "execution_count": 44,
      "outputs": [
        {
          "output_type": "stream",
          "name": "stdout",
          "text": [
            "root\n",
            " |-- name: string (nullable = true)\n",
            " |-- age: integer (nullable = true)\n",
            " |-- experience: integer (nullable = true)\n",
            " |-- salary: integer (nullable = true)\n",
            "\n"
          ]
        }
      ]
    },
    {
      "cell_type": "markdown",
      "source": [
        "independent features: age, experience\n",
        "\n",
        "dependent feature: salary"
      ],
      "metadata": {
        "id": "8IiH8i3jhuIA"
      }
    },
    {
      "cell_type": "code",
      "source": [
        "from pyspark.ml.feature import VectorAssembler"
      ],
      "metadata": {
        "id": "nvzUbgXxQHHm"
      },
      "execution_count": 45,
      "outputs": []
    },
    {
      "cell_type": "code",
      "source": [
        "featureAssembler = VectorAssembler(inputCols=['age', 'experience'], outputCol= 'independent_features')"
      ],
      "metadata": {
        "id": "fCIPQ15NQHD2"
      },
      "execution_count": 46,
      "outputs": []
    },
    {
      "cell_type": "code",
      "source": [
        "output = featureAssembler.transform(df)"
      ],
      "metadata": {
        "id": "6Idn4s2OQGrx"
      },
      "execution_count": 47,
      "outputs": []
    },
    {
      "cell_type": "code",
      "source": [
        "output.show()"
      ],
      "metadata": {
        "colab": {
          "base_uri": "https://localhost:8080/"
        },
        "id": "YsHMVeeNjGDy",
        "outputId": "2218afaa-b213-4d1b-9218-fc10122b8e80"
      },
      "execution_count": 48,
      "outputs": [
        {
          "output_type": "stream",
          "name": "stdout",
          "text": [
            "+---------+---+----------+------+--------------------+\n",
            "|     name|age|experience|salary|independent_features|\n",
            "+---------+---+----------+------+--------------------+\n",
            "|     luis| 10|        10|100000|         [10.0,10.0]|\n",
            "|  mafalda| 11|         2|  2000|          [11.0,2.0]|\n",
            "|    maria| 12|        13|  3000|         [12.0,13.0]|\n",
            "|  antonio| 13|         4|  4000|          [13.0,4.0]|\n",
            "|    pedro| 14|         5|  5200|          [14.0,5.0]|\n",
            "|  cecilia| 15|        26|  6000|         [15.0,26.0]|\n",
            "|   otavio| 16|         7|  7000|          [16.0,7.0]|\n",
            "| cristina| 17|         8|  8009|          [17.0,8.0]|\n",
            "|cristiana| 18|        92|  9000|         [18.0,92.0]|\n",
            "|    diana| 19|        10| 10000|         [19.0,10.0]|\n",
            "|     sara| 20|        11|   110|         [20.0,11.0]|\n",
            "|  roberto| 21|        12| 12000|         [21.0,12.0]|\n",
            "|    vitor| 22|       130| 13000|        [22.0,130.0]|\n",
            "|   manuel| 23|        14|  1400|         [23.0,14.0]|\n",
            "|francisco| 24|        15| 15000|         [24.0,15.0]|\n",
            "+---------+---+----------+------+--------------------+\n",
            "\n"
          ]
        }
      ]
    },
    {
      "cell_type": "code",
      "source": [
        "finalized_data = output.select(['independent_features', 'salary'])"
      ],
      "metadata": {
        "id": "nFhP2dMvjGBC"
      },
      "execution_count": 49,
      "outputs": []
    },
    {
      "cell_type": "code",
      "source": [
        "finalized_data.show()"
      ],
      "metadata": {
        "colab": {
          "base_uri": "https://localhost:8080/"
        },
        "id": "rwVW8CujjF-y",
        "outputId": "41b878dd-2c0d-4319-fd69-0998af7abb50"
      },
      "execution_count": 50,
      "outputs": [
        {
          "output_type": "stream",
          "name": "stdout",
          "text": [
            "+--------------------+------+\n",
            "|independent_features|salary|\n",
            "+--------------------+------+\n",
            "|         [10.0,10.0]|100000|\n",
            "|          [11.0,2.0]|  2000|\n",
            "|         [12.0,13.0]|  3000|\n",
            "|          [13.0,4.0]|  4000|\n",
            "|          [14.0,5.0]|  5200|\n",
            "|         [15.0,26.0]|  6000|\n",
            "|          [16.0,7.0]|  7000|\n",
            "|          [17.0,8.0]|  8009|\n",
            "|         [18.0,92.0]|  9000|\n",
            "|         [19.0,10.0]| 10000|\n",
            "|         [20.0,11.0]|   110|\n",
            "|         [21.0,12.0]| 12000|\n",
            "|        [22.0,130.0]| 13000|\n",
            "|         [23.0,14.0]|  1400|\n",
            "|         [24.0,15.0]| 15000|\n",
            "+--------------------+------+\n",
            "\n"
          ]
        }
      ]
    },
    {
      "cell_type": "markdown",
      "source": [
        "##### Split data"
      ],
      "metadata": {
        "id": "KM0F9X0up85T"
      }
    },
    {
      "cell_type": "code",
      "source": [
        "from pyspark.ml.regression import LinearRegression"
      ],
      "metadata": {
        "id": "Gp1_qfzvjF8K"
      },
      "execution_count": 51,
      "outputs": []
    },
    {
      "cell_type": "code",
      "source": [
        "#train test split (75% train, 25% test)\n",
        "train_data, test_data = finalized_data.randomSplit([0.70, 0.3], seed = 2023)"
      ],
      "metadata": {
        "id": "flWiY54tjF39"
      },
      "execution_count": 52,
      "outputs": []
    },
    {
      "cell_type": "code",
      "source": [
        "train_data.show()"
      ],
      "metadata": {
        "colab": {
          "base_uri": "https://localhost:8080/"
        },
        "id": "-l4k7xmBqsPR",
        "outputId": "913263be-a4cd-4b55-bf92-d971370ff9bd"
      },
      "execution_count": 53,
      "outputs": [
        {
          "output_type": "stream",
          "name": "stdout",
          "text": [
            "+--------------------+------+\n",
            "|independent_features|salary|\n",
            "+--------------------+------+\n",
            "|         [10.0,10.0]|100000|\n",
            "|          [11.0,2.0]|  2000|\n",
            "|         [12.0,13.0]|  3000|\n",
            "|          [13.0,4.0]|  4000|\n",
            "|          [14.0,5.0]|  5200|\n",
            "|          [16.0,7.0]|  7000|\n",
            "|          [17.0,8.0]|  8009|\n",
            "|         [18.0,92.0]|  9000|\n",
            "|         [20.0,11.0]|   110|\n",
            "|        [22.0,130.0]| 13000|\n",
            "|         [23.0,14.0]|  1400|\n",
            "|         [24.0,15.0]| 15000|\n",
            "+--------------------+------+\n",
            "\n"
          ]
        }
      ]
    },
    {
      "cell_type": "code",
      "source": [
        "test_data.show()"
      ],
      "metadata": {
        "colab": {
          "base_uri": "https://localhost:8080/"
        },
        "id": "_2PQBoB4qomh",
        "outputId": "8fc517fe-7d5f-4ee7-99bc-d754caf05d17"
      },
      "execution_count": 54,
      "outputs": [
        {
          "output_type": "stream",
          "name": "stdout",
          "text": [
            "+--------------------+------+\n",
            "|independent_features|salary|\n",
            "+--------------------+------+\n",
            "|         [15.0,26.0]|  6000|\n",
            "|         [19.0,10.0]| 10000|\n",
            "|         [21.0,12.0]| 12000|\n",
            "+--------------------+------+\n",
            "\n"
          ]
        }
      ]
    },
    {
      "cell_type": "code",
      "source": [
        "#build Linear Regression model\n",
        "regressor = LinearRegression(featuresCol='independent_features', labelCol='salary')"
      ],
      "metadata": {
        "id": "FtBve5UxjF0n"
      },
      "execution_count": 55,
      "outputs": []
    },
    {
      "cell_type": "markdown",
      "source": [
        "##### Train model"
      ],
      "metadata": {
        "id": "xRpf_sZcp_Vl"
      }
    },
    {
      "cell_type": "code",
      "source": [
        "#train model\n",
        "model = regressor.fit(train_data)"
      ],
      "metadata": {
        "id": "8QjWKj18jFxw"
      },
      "execution_count": 56,
      "outputs": []
    },
    {
      "cell_type": "markdown",
      "source": [
        "##### Make predictions"
      ],
      "metadata": {
        "id": "9Q0ay1POqCKa"
      }
    },
    {
      "cell_type": "code",
      "source": [
        "from pyspark.ml.evaluation import RegressionEvaluator"
      ],
      "metadata": {
        "id": "a2SdGn1Ip0a6"
      },
      "execution_count": 57,
      "outputs": []
    },
    {
      "cell_type": "code",
      "source": [
        "predictions = model.transform(test_data)"
      ],
      "metadata": {
        "id": "v8TwZyRQtp5r"
      },
      "execution_count": 58,
      "outputs": []
    },
    {
      "cell_type": "code",
      "source": [
        "evaluator = RegressionEvaluator(predictionCol='prediction', labelCol='salary', metricName='rmse')"
      ],
      "metadata": {
        "id": "yZG3ale5oXnI"
      },
      "execution_count": 59,
      "outputs": []
    },
    {
      "cell_type": "code",
      "source": [
        "rmse = evaluator.evaluate(predictions)\n"
      ],
      "metadata": {
        "id": "weLYM41SoXZx"
      },
      "execution_count": 60,
      "outputs": []
    },
    {
      "cell_type": "code",
      "source": [
        "print(f'Root Mean Squared Error (RMSE) on test data = {rmse:.3f}')"
      ],
      "metadata": {
        "colab": {
          "base_uri": "https://localhost:8080/"
        },
        "id": "qoUiEjj4nTo9",
        "outputId": "c503a556-e36c-4815-cdbb-6e34cbd64e96"
      },
      "execution_count": 61,
      "outputs": [
        {
          "output_type": "stream",
          "name": "stdout",
          "text": [
            "Root Mean Squared Error (RMSE) on test data = 9024.783\n"
          ]
        }
      ]
    },
    {
      "cell_type": "code",
      "source": [
        "#Predictions made\n",
        "predictions.select('salary', 'prediction').show()"
      ],
      "metadata": {
        "colab": {
          "base_uri": "https://localhost:8080/"
        },
        "id": "laGkHhchnTla",
        "outputId": "339b145c-4564-4553-e53f-08724db80a54"
      },
      "execution_count": 62,
      "outputs": [
        {
          "output_type": "stream",
          "name": "stdout",
          "text": [
            "+------+------------------+\n",
            "|salary|        prediction|\n",
            "+------+------------------+\n",
            "|  6000|17941.174581012776|\n",
            "| 10000| 6946.985561493515|\n",
            "| 12000|2386.0746119165415|\n",
            "+------+------------------+\n",
            "\n"
          ]
        }
      ]
    }
  ]
}